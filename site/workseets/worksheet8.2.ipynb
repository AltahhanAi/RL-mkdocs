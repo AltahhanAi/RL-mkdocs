{
 "cells": [
  {
   "cell_type": "markdown",
   "metadata": {},
   "source": [
    "# Worksheet 8.2: Introduction to ROS Programming (Hello World)\n",
    "\n",
    "This worksheet takes you through the basics of setting up your workspace and creating a simple package in ROS2. This is not an executable file and you need to run them as a script.\n",
    "\n",
    "By completing this worksheet, you will be better able to:\n",
    "\n",
    "- **explain** the purpose and function of the Robot Operating System (ROS)\n",
    "- **describe** how “messages”, “topics”, and “message types” work in ROS\n",
    "- **demonstrate** skills to use ROS messages to make two ROS processes communicate\n",
    "\n",
    "**NOTE**\n",
    "We assume you have basic familiarity with the Linux command line environment. If you have never used commands like `cd` or `ls` or `mkdir` before, then complete the first four steps in this <a href=\"https://ubuntu.com/tutorials/command-line-for-beginners\" target=\"_blank\">ubuntu tutorial for beginners</a> before you continue.\n",
    "\n",
    "\n",
    "**NOTE THE WORKSPACE IS ALREADY CREATED FOR YOU IN THE VM PROVIDED**\n",
    "\n",
    "\n",
    "**NOTE: This notebook is not an interactive one. You need to run the code in the form of scripts.**"
   ]
  },
  {
   "cell_type": "markdown",
   "metadata": {},
   "source": [
    "## TASK1: Create Your Workspace\n",
    "\n",
    "First, create a directory ```(ros2_ws)``` to contain our workspace:"
   ]
  },
  {
   "cell_type": "code",
   "execution_count": null,
   "metadata": {},
   "outputs": [],
   "source": [
    "mkdir -p ~/ros2_ws/src\n",
    "cd ~/ros2_ws"
   ]
  },
  {
   "cell_type": "markdown",
   "metadata": {},
   "source": [
    "## TASK2: Create your package\n",
    "\n",
    "Open a new terminal and source your ROS 2 installation so that ros2 commands will work.\n",
    "\n",
    "Navigate into the ```ros2_ws``` directory.\n",
    "\n",
    "Recall that packages should be created in the src directory, not the root of the workspace. So, navigate into ros2_ws/src, and run the package creation command:"
   ]
  },
  {
   "cell_type": "code",
   "execution_count": null,
   "metadata": {},
   "outputs": [],
   "source": [
    "ros2 pkg create --build-type ament_python unit2"
   ]
  },
  {
   "cell_type": "markdown",
   "metadata": {},
   "source": [
    "**Build a package**"
   ]
  },
  {
   "cell_type": "code",
   "execution_count": null,
   "metadata": {},
   "outputs": [],
   "source": [
    "cd ~/ros2_ws   # go to root directory\n",
    "\n",
    "colcon build   # build your package\n",
    "\n",
    "source install/local_setup.bash   # source"
   ]
  },
  {
   "cell_type": "markdown",
   "metadata": {},
   "source": [
    "The package has been created successfully. "
   ]
  },
  {
   "cell_type": "markdown",
   "metadata": {},
   "source": [
    "# TASK3: Write a simple subscriber and publisher script\n",
    "\n",
    "The idea is to write and understand simple code for subscriber and publisher which will help us understand different topics and msgs type. Once, we complete this task, we will move towards the turtlebot3 to do the same."
   ]
  },
  {
   "cell_type": "markdown",
   "metadata": {},
   "source": [
    "Navigate to ```ros2_ws/src/unit2/unit2```. Download the example talker (Publisher) code by entering the following command:"
   ]
  },
  {
   "cell_type": "code",
   "execution_count": null,
   "metadata": {},
   "outputs": [],
   "source": [
    "wget https://raw.githubusercontent.com/ros2/examples/foxy/rclpy/topics/minimal_publisher/examples_rclpy_minimal_publisher/publisher_member_function.py"
   ]
  },
  {
   "cell_type": "markdown",
   "metadata": {},
   "source": [
    "Now there will be a new file named ```publisher_member_function.py``` adjacent to ```__init__.py```. The code looks like this"
   ]
  },
  {
   "cell_type": "code",
   "execution_count": null,
   "metadata": {},
   "outputs": [],
   "source": [
    "import rclpy\n",
    "from rclpy.node import Node\n",
    "\n",
    "from std_msgs.msg import String\n",
    "\n",
    "\n",
    "class MinimalPublisher(Node):\n",
    "\n",
    "    def __init__(self):\n",
    "        super().__init__('minimal_publisher')\n",
    "        self.publisher_ = self.create_publisher(String, 'topic', 10)\n",
    "        timer_period = 0.5  # seconds\n",
    "        self.timer = self.create_timer(timer_period, self.timer_callback)\n",
    "        self.i = 0\n",
    "\n",
    "    def timer_callback(self):\n",
    "        msg = String()\n",
    "        msg.data = 'Hello World: %d' % self.i\n",
    "        self.publisher_.publish(msg)\n",
    "        self.get_logger().info('Publishing: \"%s\"' % msg.data)\n",
    "        self.i += 1\n",
    "\n",
    "\n",
    "def main(args=None):\n",
    "    rclpy.init(args=args)\n",
    "\n",
    "    minimal_publisher = MinimalPublisher()\n",
    "\n",
    "    rclpy.spin(minimal_publisher)\n",
    "\n",
    "    # Destroy the node explicitly\n",
    "    # (optional - otherwise it will be done automatically\n",
    "    # when the garbage collector destroys the node object)\n",
    "    minimal_publisher.destroy_node()\n",
    "    rclpy.shutdown()\n",
    "\n",
    "\n",
    "if __name__ == '__main__':\n",
    "    main()"
   ]
  },
  {
   "cell_type": "markdown",
   "metadata": {},
   "source": [
    "## Examine the code\n",
    "\n",
    "The first lines of code after the comments ```import rclpy``` so its Node class can be used."
   ]
  },
  {
   "cell_type": "code",
   "execution_count": null,
   "metadata": {},
   "outputs": [],
   "source": [
    "import rclpy\n",
    "from rclpy.node import Node"
   ]
  },
  {
   "cell_type": "markdown",
   "metadata": {},
   "source": [
    "The next statement imports the built-in string message type that the node uses to structure the data that it passes on the topic."
   ]
  },
  {
   "cell_type": "code",
   "execution_count": null,
   "metadata": {},
   "outputs": [],
   "source": [
    "from std_msgs.msg import String"
   ]
  },
  {
   "cell_type": "markdown",
   "metadata": {},
   "source": [
    "These lines represent the node’s dependencies. Recall that dependencies have to be added to package.xml, which you’ll do in the next section.\n",
    "\n",
    "Next, the MinimalPublisher class is created, which inherits from (or is a subclass of) Node."
   ]
  },
  {
   "cell_type": "code",
   "execution_count": null,
   "metadata": {},
   "outputs": [],
   "source": [
    "class MinimalPublisher(Node):"
   ]
  },
  {
   "cell_type": "markdown",
   "metadata": {},
   "source": [
    "Following is the definition of the class’s constructor. super().__init__ calls the Node class’s constructor and gives it your node name, in this case minimal_publisher.\n",
    "\n",
    "create_publisher declares that the node publishes messages of type String (imported from the std_msgs.msg module), over a topic named topic, and that the “queue size” is 10. Queue size is a required QoS (quality of service) setting that limits the amount of queued messages if a subscriber is not receiving them fast enough.\n",
    "\n",
    "Next, a timer is created with a callback to execute every 0.5 seconds. self.i is a counter used in the callback."
   ]
  },
  {
   "cell_type": "code",
   "execution_count": null,
   "metadata": {},
   "outputs": [],
   "source": [
    "def __init__(self):\n",
    "    super().__init__('minimal_publisher')\n",
    "    self.publisher_ = self.create_publisher(String, 'topic', 10)\n",
    "    timer_period = 0.5  # seconds\n",
    "    self.timer = self.create_timer(timer_period, self.timer_callback)\n",
    "    self.i = 0"
   ]
  },
  {
   "cell_type": "markdown",
   "metadata": {},
   "source": [
    "timer_callback creates a message with the counter value appended, and publishes it to the console with get_logger().info."
   ]
  },
  {
   "cell_type": "code",
   "execution_count": null,
   "metadata": {},
   "outputs": [],
   "source": [
    "def timer_callback(self):\n",
    "    msg = String()\n",
    "    msg.data = 'Hello World: %d' % self.i\n",
    "    self.publisher_.publish(msg)\n",
    "    self.get_logger().info('Publishing: \"%s\"' % msg.data)\n",
    "    self.i += 1"
   ]
  },
  {
   "cell_type": "markdown",
   "metadata": {},
   "source": [
    "Lastly, the main function is defined."
   ]
  },
  {
   "cell_type": "code",
   "execution_count": null,
   "metadata": {},
   "outputs": [],
   "source": [
    "def main(args=None):\n",
    "    rclpy.init(args=args)\n",
    "\n",
    "    minimal_publisher = MinimalPublisher()\n",
    "\n",
    "    rclpy.spin(minimal_publisher)\n",
    "\n",
    "    # Destroy the node explicitly\n",
    "    # (optional - otherwise it will be done automatically\n",
    "    # when the garbage collector destroys the node object)\n",
    "    minimal_publisher.destroy_node()\n",
    "    rclpy.shutdown()"
   ]
  },
  {
   "cell_type": "markdown",
   "metadata": {},
   "source": [
    "First the rclpy library is initialized, then the node is created, and then it “spins” the node so its callbacks are called."
   ]
  },
  {
   "cell_type": "markdown",
   "metadata": {},
   "source": [
    "## ADD dependencies and add the entry point\n",
    "\n",
    "Please add these dependencies to package.xml and add the script to console_scripts brackets of the entery_points field in setup.py"
   ]
  },
  {
   "cell_type": "code",
   "execution_count": null,
   "metadata": {},
   "outputs": [],
   "source": [
    "<exec_depend>rclpy</exec_depend>\n",
    "<exec_depend>std_msgs</exec_depend>"
   ]
  },
  {
   "cell_type": "code",
   "execution_count": null,
   "metadata": {},
   "outputs": [],
   "source": [
    "entry_points={\n",
    "        'console_scripts': [\n",
    "                'talker = unit2.publisher_member_function:main',\n",
    "        ],\n",
    "},"
   ]
  },
  {
   "cell_type": "markdown",
   "metadata": {},
   "source": [
    "## Write the listener Node (subscriber)\n",
    "\n",
    "Go to ```ros2_ws/src/unit2/unit2``` and download the subscriber code"
   ]
  },
  {
   "cell_type": "code",
   "execution_count": null,
   "metadata": {},
   "outputs": [],
   "source": [
    "wget https://raw.githubusercontent.com/ros2/examples/foxy/rclpy/topics/minimal_subscriber/examples_rclpy_minimal_subscriber/subscriber_member_function.py"
   ]
  },
  {
   "cell_type": "markdown",
   "metadata": {},
   "source": [
    "The directory should have these files now"
   ]
  },
  {
   "cell_type": "code",
   "execution_count": null,
   "metadata": {},
   "outputs": [],
   "source": [
    "__init__.py  publisher_member_function.py  subscriber_member_function.py"
   ]
  },
  {
   "cell_type": "markdown",
   "metadata": {},
   "source": [
    "## Add an entry point\n",
    "\n",
    "Reopen setup.py and add the entry point for the subscriber node below the publisher’s entry point. The entry_points field should now look like this"
   ]
  },
  {
   "cell_type": "code",
   "execution_count": null,
   "metadata": {},
   "outputs": [],
   "source": [
    "entry_points={\n",
    "        'console_scripts': [\n",
    "                'talker = unit2.publisher_member_function:main',\n",
    "                'listener = unit2.subscriber_member_function:main',\n",
    "        ],\n",
    "},"
   ]
  },
  {
   "cell_type": "markdown",
   "metadata": {},
   "source": [
    "## Build and run\n",
    "\n",
    "Check for dependencies "
   ]
  },
  {
   "cell_type": "code",
   "execution_count": null,
   "metadata": {},
   "outputs": [],
   "source": [
    "rosdep install -i --from-path src --rosdistro foxy -y"
   ]
  },
  {
   "cell_type": "code",
   "execution_count": null,
   "metadata": {},
   "outputs": [],
   "source": [
    "colcon build --packages-select unit2\n",
    "\n",
    "source install/setup.bash"
   ]
  },
  {
   "cell_type": "markdown",
   "metadata": {},
   "source": [
    "## Run your code\n",
    "\n",
    "Now, your both subscriber and publisher nodes are ready. Open a new terminal and source it. Run this command after that"
   ]
  },
  {
   "cell_type": "code",
   "execution_count": null,
   "metadata": {},
   "outputs": [],
   "source": [
    "ros2 run unit2 talker"
   ]
  },
  {
   "cell_type": "markdown",
   "metadata": {},
   "source": [
    "The terminal should start publishing info messages every 0.5 seconds, like so:"
   ]
  },
  {
   "cell_type": "code",
   "execution_count": null,
   "metadata": {},
   "outputs": [],
   "source": [
    "[INFO] [minimal_publisher]: Publishing: \"Hello World: 0\"\n",
    "[INFO] [minimal_publisher]: Publishing: \"Hello World: 1\"\n",
    "[INFO] [minimal_publisher]: Publishing: \"Hello World: 2\"\n",
    "[INFO] [minimal_publisher]: Publishing: \"Hello World: 3\"\n",
    "[INFO] [minimal_publisher]: Publishing: \"Hello World: 4\"\n",
    "..."
   ]
  },
  {
   "cell_type": "markdown",
   "metadata": {},
   "source": [
    "Open another terminal, source the setup files from inside ros2_ws again, and then start the listener node:"
   ]
  },
  {
   "cell_type": "code",
   "execution_count": null,
   "metadata": {},
   "outputs": [],
   "source": [
    "ros2 run unit2 listener"
   ]
  },
  {
   "cell_type": "markdown",
   "metadata": {},
   "source": [
    "The listener will start printing messages to the console, starting at whatever message count the publisher is on at that time, like so:"
   ]
  },
  {
   "cell_type": "code",
   "execution_count": null,
   "metadata": {},
   "outputs": [],
   "source": [
    "[INFO] [minimal_subscriber]: I heard: \"Hello World: 10\"\n",
    "[INFO] [minimal_subscriber]: I heard: \"Hello World: 11\"\n",
    "[INFO] [minimal_subscriber]: I heard: \"Hello World: 12\"\n",
    "[INFO] [minimal_subscriber]: I heard: \"Hello World: 13\"\n",
    "[INFO] [minimal_subscriber]: I heard: \"Hello World: 14\""
   ]
  },
  {
   "cell_type": "markdown",
   "metadata": {},
   "source": [
    "## Subscriber\n",
    "The subscriber has a similar structure to the publisher but it is simpler. There is no timer() because it will be invoked by the topic it subscribes to. Note also that the call_back function expects an argument msg which is the info sent by the topic the subscriber subscribes to.\n"
   ]
  },
  {
   "cell_type": "code",
   "execution_count": null,
   "metadata": {},
   "outputs": [],
   "source": [
    "import rclpy\n",
    "from rclpy.node import Node\n",
    "\n",
    "from std_msgs.msg import String\n",
    "\n",
    "\n",
    "class MinimalSubscriber(Node):\n",
    "\n",
    "    def __init__(self):\n",
    "        super().__init__('minimal_subscriber')\n",
    "        self.subscription = self.create_subscription(String, 'topic', self.listener_callback, 10)\n",
    "        self.subscription  # prevent unused variable warning\n",
    "\n",
    "    def listener_callback(self, msg):\n",
    "        self.get_logger().info('I heard: \"%s\"' % msg.data)\n",
    "\n",
    "\n",
    "def main(args=None):\n",
    "    rclpy.init(args=args)\n",
    "\n",
    "    minimal_subscriber = MinimalSubscriber()\n",
    "\n",
    "    rclpy.spin(minimal_subscriber)\n",
    "\n",
    "    # Destroy the node explicitly\n",
    "    # (optional - otherwise it will be done automatically\n",
    "    # when the garbage collector destroys the node object)\n",
    "    minimal_subscriber.destroy_node()\n",
    "    rclpy.shutdown()\n",
    "\n",
    "\n",
    "if __name__ == '__main__':\n",
    "    main()"
   ]
  },
  {
   "cell_type": "markdown",
   "metadata": {},
   "source": [
    "Now run the scubscriber and observe what its output, what do you conclude?"
   ]
  },
  {
   "cell_type": "markdown",
   "metadata": {},
   "source": [
    "## Summary\n",
    "\n",
    "You created two nodes to publish and subscribe to data over a topic. Before running them, you added their dependencies and entry points to the package configuration files."
   ]
  }
 ],
 "metadata": {
  "kernelspec": {
   "display_name": "Python 3 (ipykernel)",
   "language": "python",
   "name": "python3"
  },
  "language_info": {
   "codemirror_mode": {
    "name": "ipython",
    "version": 3
   },
   "file_extension": ".py",
   "mimetype": "text/x-python",
   "name": "python",
   "nbconvert_exporter": "python",
   "pygments_lexer": "ipython3",
   "version": "3.9.13"
  }
 },
 "nbformat": 4,
 "nbformat_minor": 4
}
