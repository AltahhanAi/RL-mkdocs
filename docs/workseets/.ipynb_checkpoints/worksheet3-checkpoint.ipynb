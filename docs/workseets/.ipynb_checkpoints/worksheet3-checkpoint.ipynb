{
 "cells": [
  {
   "cell_type": "markdown",
   "id": "c17794d0",
   "metadata": {},
   "source": [
    "Author: Abdulrahman Altahhan, 2025.\n",
    "\n",
    "The notebook uses a library of functionality in RL that aims for simplicity and general insight into how algorithms work, these libraries are written from scratch using standard Python libraries (numpy, matplotlib etc.).\n",
    "Please note that you will need permission from the author to use the code for research, commercially or otherwise."
   ]
  },
  {
   "cell_type": "markdown",
   "id": "c3f5efa6",
   "metadata": {},
   "source": [
    "# Worksheet 3: Grid World Environment Class"
   ]
  },
  {
   "cell_type": "markdown",
   "id": "b971de74",
   "metadata": {},
   "source": [
    "In this lesson we cover various grid world environments that are tackled as examples in the accompanying text book available online [here](http://incompleteideas.net/book/RLbook2020.pdf). Please note that we explain the ideas of this topic from a practical perspective and not from a theoretical perspective which is already covered in the textbook."
   ]
  },
  {
   "cell_type": "markdown",
   "id": "70beef74",
   "metadata": {},
   "source": [
    "**Learning outcomes**\n",
    "1. become familiar with the different types of grid world problems that we will tackle in our units\n",
    "2. become familiar with the way we assign a reward to an environment\n",
    "3. be able to execute actions in a grid world and observe the result\n",
    "4. be able to to visualise a policy and its action-value function"
   ]
  },
  {
   "cell_type": "markdown",
   "id": "2970b642",
   "metadata": {},
   "source": [
    "In a grid world, we have a set of cells that the agent can move between them inside a box. The agent can move left, right, up and down. We can also allow the agent to move diagonally, but this is uncommon. \n",
    "\n",
    " We needed to be as efficient as possible, and hence we have chosen to represent each state by its count, where we count from the bottom left corner up to the right top corner, and we start with 0 up to nS-1 where nS is the number of states. This will allow us to streamline the process of accessing and storing a state and will be of at most efficiency. We also deal with actions similarly, i.e. each action of the nA actions is given an index 0..nA-1. For the usual grid, this means 0,1,2,3 for actions left, right, up and down. We represent a 2-d grid by a 1-d array, and so care must be taken on how the agent moves between cells. \n",
    "\n",
    "Moving left or right seems easy because we can add or subtract from the *current* state. But when the agent is on the edge of the box, we cannot allow for an action that takes it out of the box. So if the agent is on the far right, we cannot allow it to go further to the right. To account for this issue, we have written a valid() function to validate an action. Moving up and down is similar, but we need to add and subtract a full row, which is how many columns we have in our grid. the valid() function checks for the current state and what would be the next state, and it knows that an agent will overstep the boundary as follows: if s\\%cols!=0, this means that the agent was not on the left edge and executing a right action (s+a)\\%cols==0 will take it to the left edge. This means it was on the right edge and wanted to move off this right edge. Other checks are similar. We have also accounted for moving diagonally so the agent will not overstep the boundaries.\n",
    "\n",
    "We have also accounted for different reward schemes that we might want to use later in other lessons. These are formulated as an array of 4 elements [intermediate, goal1, goal2, cliff] the first reward represents the reward the agent obtains if it is on any intermediate cell. Intermediate cells are non-terminal cells. Goals or terminal states are those that a task would be completed if the agent steps into them. By setting the goals array, we can decide which cells are terminal/goals. As we can see, there are two goals, this will allow us to deal with all the classical problems we will tackle in our RL treatments, but we could have set up more. So, our reward array's second and third elements are for the goals. The last entry is for a cliff. A cliff cell is a special type of non-terminal cell where the agent will emulate falling off a cliff and usually is given a high negative reward and then will be hijacked and put in its start position when it steps into these types of cells. These types of cells are non-terminal in the sense that the agent did not achieve the task when it went to them, but they provoke a reset of the agent position with a large negative reward.\n",
    "\n",
    "The most important function in our class is the step(a) function. An agent will take a specific action in the environment via this function. Via this function, we return the reward from our environment and a flag (done) indicating whether the task is accomplished. This makes our environment compatible with the classic setup of an OpenAI Gym Atari games, which we deal with towards the end of our RL treatment.\n"
   ]
  },
  {
   "cell_type": "code",
   "execution_count": 1,
   "id": "74f6bf1b",
   "metadata": {
    "ExecuteTime": {
     "end_time": "2023-02-26T12:56:19.077331Z",
     "start_time": "2023-02-26T12:56:17.907041Z"
    }
   },
   "outputs": [],
   "source": [
    "%matplotlib inline"
   ]
  },
  {
   "cell_type": "code",
   "execution_count": 2,
   "id": "b310e927-d455-464b-b9c1-107e828dd7bb",
   "metadata": {
    "scrolled": true
   },
   "outputs": [
    {
     "data": {
      "text/html": [
       "<style>.container {width:90% !important}</style>"
      ],
      "text/plain": [
       "<IPython.core.display.HTML object>"
      ]
     },
     "metadata": {},
     "output_type": "display_data"
    }
   ],
   "source": [
    "import matplotlib.pyplot as plt\n",
    "from env.grid import Grid"
   ]
  },
  {
   "cell_type": "markdown",
   "id": "96e6eace",
   "metadata": {},
   "source": [
    "In a sense, Grid is class we can readily use to tackle the different problems ahead of us.  Let us test this class to appreciate what it is doing. we will start by the basics of the class and work our way through its different funcitonality. We will start by simple state representation that gives each state an index(count). The actions are extremely efficient and boil down to adding or subtracting a number of cell positions depending on the action. \n",
    "\n",
    "The set of possible rewards is 4; one for 2 possible goals (terminal states), one for intermediate (non-terminal) states and one special for cliff falling. The class caller can assign one of the special rewards by passing its name, and the setattr() function will handle the rest.\n",
    "\n",
    "Let us have a look at how to use the basic capabilities of this class."
   ]
  },
  {
   "cell_type": "code",
   "execution_count": 3,
   "id": "e911592b",
   "metadata": {
    "ExecuteTime": {
     "end_time": "2023-02-26T12:56:19.463051Z",
     "start_time": "2023-02-26T12:56:19.460183Z"
    }
   },
   "outputs": [
    {
     "name": "stdout",
     "output_type": "stream",
     "text": [
      "27\n",
      "28\n"
     ]
    }
   ],
   "source": [
    "gw = Grid()\n",
    "print(gw.s)\n",
    "gw.step(1) # move right\n",
    "print(gw.s)"
   ]
  },
  {
   "cell_type": "code",
   "execution_count": 4,
   "id": "0fff6889",
   "metadata": {
    "ExecuteTime": {
     "end_time": "2023-02-26T12:56:21.516335Z",
     "start_time": "2023-02-26T12:56:21.512867Z"
    }
   },
   "outputs": [
    {
     "name": "stdout",
     "output_type": "stream",
     "text": [
      "[27, 1, 2, 3, 4, 5, 6, 7, 8, 8, 8]\n"
     ]
    }
   ],
   "source": [
    "gw = Grid()\n",
    "def go_far_right():\n",
    "    gw.s = 0\n",
    "    for s in range(gw.cols+1):\n",
    "        gw.step(1)\n",
    "\n",
    "    print(gw.trace)\n",
    "    \n",
    "go_far_right()"
   ]
  },
  {
   "cell_type": "markdown",
   "id": "e8a077f7",
   "metadata": {},
   "source": [
    "Once the agent hits the right wall it stays there. To see that we adjust the function to overshoot the number of possible cells (cols in this case)."
   ]
  },
  {
   "cell_type": "code",
   "execution_count": 5,
   "id": "edcfc6d5",
   "metadata": {
    "ExecuteTime": {
     "end_time": "2023-02-26T12:56:24.787383Z",
     "start_time": "2023-02-26T12:56:24.783947Z"
    }
   },
   "outputs": [
    {
     "name": "stdout",
     "output_type": "stream",
     "text": [
      "[27, 1, 2, 3, 4, 5, 6, 7, 8, 8, 8, 1, 2, 3, 4, 5, 6, 7, 8, 8, 8]\n"
     ]
    }
   ],
   "source": [
    "def go_far_right():\n",
    "    gw.s = 0\n",
    "    for s in range(gw.cols+1):\n",
    "        gw.step(1)\n",
    "\n",
    "    print(gw.trace)\n",
    "    \n",
    "go_far_right()"
   ]
  },
  {
   "cell_type": "markdown",
   "id": "295e49c3",
   "metadata": {},
   "source": [
    "As we can see once the agent hits the right wall in state 8 it stays there. Note that the new trace is added to the original trace. If you want to create a new trace we can reset the Grid variable gw or we can reset the gw.trace variable."
   ]
  },
  {
   "cell_type": "code",
   "execution_count": 6,
   "id": "71caad11",
   "metadata": {
    "ExecuteTime": {
     "end_time": "2023-02-26T12:56:27.699314Z",
     "start_time": "2023-02-26T12:56:27.696431Z"
    }
   },
   "outputs": [
    {
     "name": "stdout",
     "output_type": "stream",
     "text": [
      "[27, 1, 2, 3, 4, 5, 6, 7, 8, 8, 8]\n"
     ]
    }
   ],
   "source": [
    "gw = Grid()\n",
    "go_far_right()"
   ]
  },
  {
   "cell_type": "markdown",
   "id": "ea40f51d",
   "metadata": {},
   "source": [
    "## Different Grid Styles\n",
    "Below we show how to use the Grid class to creat different grid styles. \n"
   ]
  },
  {
   "cell_type": "code",
   "execution_count": 7,
   "id": "5b52595f",
   "metadata": {},
   "outputs": [
    {
     "data": {
      "text/plain": [
       "[0, 0, 0, 0, 0, 0, 0, 0, 0, 0]"
      ]
     },
     "execution_count": 7,
     "metadata": {},
     "output_type": "execute_result"
    }
   ],
   "source": [
    "wind = [0]*10\n",
    "wind"
   ]
  },
  {
   "cell_type": "markdown",
   "id": "912a5ad9",
   "metadata": {},
   "source": [
    "There are a few points to realise in the Grid class. \n",
    "First, it gives us the flexibility to pick from a set of ready-made reward schemes we can choose from via passing their names, ex. Grid(reward='cliffwalk').\n",
    "Via the reward we set the following componenets [intermediate, goal0,goal1, cliff]. The intermediate reward componenet represents the rewards that the agent will recieve for non-terminal and non-special states, goal0 and goal1 are for ending up in one of the two possible goals/terminals states, the cliff reward is for ending up in a cliff state (falling off the cliff).\n",
    "\n",
    "Possible readymade reward funcitons with thier values are:[intermediate, goal0,goal1, cliff]\n",
    "                \n",
    "    'reward_'    ==> ([0,    1,   0, -100]) default\n",
    "    'cliffwalk'  ==> ([-1,  -1,  -1, -100])\n",
    "    'randwalk'   ==> ([ 0,   0,   1,    0])\n",
    "    'randwalk_'  ==> ([ 0,  -1,   1,    0])\n",
    "    'reward0'    ==> ([-1,   0,   0,   -1])\n",
    "    'reward_1'   ==> ([-1,  -1,  -1,   -1])\n",
    "    'reward1'    ==> ([-1,   1,   1,   -1])\n",
    "    'reward10'   ==> ([-1,  10,  10,   -1])\n",
    "    'reward100'  ==> ([-1, 100, 100,   -1])\n",
    "     \n",
    "We can also directly set the self.reward attribute.\n",
    "\n",
    "In addition, the class accounts for different 'style's of environments, such as the 'maze', the 'cliff' and the 'windy' environments. Each one of these styles will have a specific layout in terms of the number of cells and where the goals are. We will demo each to appreciate how they look and how the agent will behave inside them.\n",
    "Note that the way we structured the obstacles in the maze allows us to change the maze size while keeping the overall structure. This will be useful when we tackle planning algorithms."
   ]
  },
  {
   "cell_type": "markdown",
   "id": "2b935203",
   "metadata": {},
   "source": [
    "## Visualising the Grid"
   ]
  },
  {
   "cell_type": "markdown",
   "id": "83b26347",
   "metadata": {},
   "source": [
    "Ok, dealing with the bare minimum grid without visualisation makes it difficult to observe the behaviour of an agent. Now we show useful set of visualisation routines to make this possible. "
   ]
  },
  {
   "cell_type": "code",
   "execution_count": 8,
   "id": "1aa474c4",
   "metadata": {},
   "outputs": [
    {
     "data": {
      "image/png": "[encoded data removed]",
      "text/plain": [
       "<Figure size 1200x200 with 1 Axes>"
      ]
     },
     "metadata": {},
     "output_type": "display_data"
    }
   ],
   "source": [
    "gw = Grid(style='maze')\n",
    "gw.render()"
   ]
  },
  {
   "cell_type": "markdown",
   "id": "7c953927",
   "metadata": {},
   "source": [
    "To see the internal state representation that we use in our grid world we can render it  as follows"
   ]
  },
  {
   "cell_type": "code",
   "execution_count": 9,
   "id": "2d72d6b8",
   "metadata": {},
   "outputs": [
    {
     "data": {
      "image/png": "[encoded data removed]",
      "text/plain": [
       "<Figure size 1200x200 with 1 Axes>"
      ]
     },
     "metadata": {},
     "output_type": "display_data"
    }
   ],
   "source": [
    "gw.render(underhood='states')"
   ]
  },
  {
   "cell_type": "markdown",
   "id": "191a038e",
   "metadata": {},
   "source": [
    "## Animating the Grid\n",
    "Grid animation is very easy thanks to the render function which take care of setting the scene and clearing the output. Below we show a simple function that achieve this."
   ]
  },
  {
   "cell_type": "code",
   "execution_count": 10,
   "id": "d5a35804",
   "metadata": {},
   "outputs": [],
   "source": [
    "def animate_right(gw=Grid(), pause=0):\n",
    "    gw.s=gw.s0 # reset the agent position\n",
    "    # let us go right\n",
    "    for s in range(5):\n",
    "        gw.step(1)\n",
    "        gw.render(pause=pause)"
   ]
  },
  {
   "cell_type": "code",
   "execution_count": 11,
   "id": "12fd52e6",
   "metadata": {},
   "outputs": [
    {
     "data": {
      "image/png": "[encoded data removed]",
      "text/plain": [
       "<Figure size 1200x200 with 1 Axes>"
      ]
     },
     "metadata": {},
     "output_type": "display_data"
    }
   ],
   "source": [
    "animate_right()"
   ]
  },
  {
   "cell_type": "code",
   "execution_count": 12,
   "id": "567646ef",
   "metadata": {},
   "outputs": [],
   "source": [
    "def scan(env, animate=True, pause=0):\n",
    "    env.s = 0 # env.s0 # reset the agent position\n",
    "\n",
    "    # scan the whole env\n",
    "    for s in range(env.s, env.nS):#env.s0,env.s0+1):\n",
    "        if s in env.obstacles: continue\n",
    "        for a in range(gw.nA):\n",
    "            env.s = s\n",
    "            env.render(animate=animate, pause=pause)\n",
    "            env.step(a)\n",
    "            env.render(animate=animate, pause=pause)\n",
    "        env.s = s\n",
    "        #plt.pause(.5)"
   ]
  },
  {
   "cell_type": "code",
   "execution_count": 13,
   "id": "28de3537",
   "metadata": {},
   "outputs": [
    {
     "data": {
      "image/png": "[encoded data removed]",
      "text/plain": [
       "<Figure size 1200x200 with 1 Axes>"
      ]
     },
     "metadata": {},
     "output_type": "display_data"
    },
    {
     "name": "stdout",
     "output_type": "stream",
     "text": [
      "CPU times: user 47.3 s, sys: 13.3 s, total: 1min\n",
      "Wall time: 20.6 s\n"
     ]
    }
   ],
   "source": [
    "%time scan(gw)"
   ]
  },
  {
   "cell_type": "code",
   "execution_count": 14,
   "id": "f8768391",
   "metadata": {},
   "outputs": [],
   "source": [
    "def wander(gw, animate=True, pause=0):\n",
    "    gw.s=gw.s0 # reset the agent position\n",
    "    \n",
    "    # let us go right\n",
    "    for s in range(gw.cols):\n",
    "        gw.step(1)\n",
    "        gw.render(animate=animate, pause=pause)\n",
    "    \n",
    "    # let us go left\n",
    "    for s in range(gw.rows):\n",
    "        gw.step(0)\n",
    "        gw.render(animate=animate, pause=pause)\n",
    "\n",
    "    # scan the whole env\n",
    "    for s in range(gw.s,gw.nS):#gw.s0,gw.s0+1):\n",
    "        if s in gw.obstacles: continue\n",
    "        for a in range(gw.nA):\n",
    "            gw.s = s\n",
    "            gw.render(animate=animate, pause=pause)\n",
    "            gw.step(a)\n",
    "            gw.render(animate=animate, pause=pause)\n",
    "        gw.s = s\n",
    "        #plt.pause(.5)"
   ]
  },
  {
   "cell_type": "code",
   "execution_count": null,
   "id": "29ca1e1c",
   "metadata": {},
   "outputs": [
    {
     "data": {
      "image/png": "[encoded data removed]",
      "text/plain": [
       "<Figure size 1200x200 with 1 Axes>"
      ]
     },
     "metadata": {},
     "output_type": "display_data"
    }
   ],
   "source": [
    "%time wander(Grid())"
   ]
  },
  {
   "cell_type": "markdown",
   "id": "f7c2021d",
   "metadata": {},
   "source": [
    "## Visualising the a Policy on a Grid"
   ]
  },
  {
   "cell_type": "markdown",
   "id": "73b55f0c",
   "metadata": {},
   "source": [
    "Next we further show how to use various rendering routines to enhance and enrich the Grid class. Mainly these rendering routines will be used to show either the V functions of the current policy, or arrows that represent the most prominant Q value or the deterministic or stochastic action of a policy π. We will simply call these rendering functions to visualise results."
   ]
  },
  {
   "cell_type": "code",
   "execution_count": null,
   "id": "1d8be802",
   "metadata": {},
   "outputs": [],
   "source": [
    "gw = Grid(style='maze')"
   ]
  },
  {
   "cell_type": "code",
   "execution_count": null,
   "id": "44804e97",
   "metadata": {},
   "outputs": [],
   "source": [
    "gw.render(underhood='V',    pause=1)"
   ]
  },
  {
   "cell_type": "code",
   "execution_count": null,
   "id": "1cd5b718",
   "metadata": {},
   "outputs": [],
   "source": [
    "gw = Grid(style='maze',figsize=(40, 7))\n",
    "gw.render(underhood='Q')"
   ]
  },
  {
   "cell_type": "markdown",
   "id": "e1694dc2",
   "metadata": {},
   "source": [
    "Note that the above is due to  plt.text('←') function which is a slow function for the display."
   ]
  },
  {
   "cell_type": "code",
   "execution_count": null,
   "id": "2f50b650",
   "metadata": {
    "scrolled": true
   },
   "outputs": [],
   "source": [
    "gw = Grid(style='maze')\n",
    "gw.render(underhood='maxQ', pause=1)"
   ]
  },
  {
   "cell_type": "markdown",
   "id": "cec394bc",
   "metadata": {},
   "source": [
    "Note that the above arrows are due to the plt.quiver() function and **not** the slower plt.text('←') function. "
   ]
  },
  {
   "cell_type": "markdown",
   "id": "71643191",
   "metadata": {},
   "source": [
    "## Visualisation for a specialist Grids\n",
    "Let us see now to visualise certyain kind of common grid world."
   ]
  },
  {
   "cell_type": "code",
   "execution_count": null,
   "id": "99831e20",
   "metadata": {},
   "outputs": [],
   "source": [
    "gw = Grid(style='maze')\n",
    "for _ in range(2):gw.step(1)\n",
    "for _ in range(4):gw.step(2)\n",
    "for _ in range(2):gw.step(1)\n",
    "    \n",
    "gw.render(underhood='trace')"
   ]
  },
  {
   "cell_type": "code",
   "execution_count": null,
   "id": "bcff52d1",
   "metadata": {},
   "outputs": [],
   "source": [
    "6*9-1"
   ]
  },
  {
   "cell_type": "code",
   "execution_count": null,
   "id": "10a060c0",
   "metadata": {},
   "outputs": [],
   "source": [
    "5//(2*10)"
   ]
  },
  {
   "cell_type": "markdown",
   "id": "fca862d0",
   "metadata": {},
   "source": [
    "## Jumping Grid Class!\n",
    "We can also allow the agent to jump randomly or to a specific location in the grid without going through intermediate states. This will be used later in other lessons that deal with state representations. Here we define a jumping Grid by assigning its jump attribute to a value>1(default)."
   ]
  },
  {
   "cell_type": "code",
   "execution_count": null,
   "id": "c7cd7aba",
   "metadata": {},
   "outputs": [],
   "source": [
    "mz = Grid(style='maze')"
   ]
  },
  {
   "cell_type": "code",
   "execution_count": null,
   "id": "becad317",
   "metadata": {},
   "outputs": [],
   "source": [
    "mz.render()\n",
    "plt.pause(1)\n",
    "mz.jump = 3\n",
    "mz.step(2)\n",
    "mz.render()"
   ]
  },
  {
   "cell_type": "markdown",
   "id": "26b8c2a5",
   "metadata": {},
   "source": [
    "Note how the agent jumped from start state to the bottom state directly, repeat the execution to see the effect of random jumps. You can switch this randomness off to see also the effect."
   ]
  },
  {
   "cell_type": "markdown",
   "id": "e295010d",
   "metadata": {},
   "source": [
    "## Useful functions to return special types of Grids\n",
    "Often we will be dealing with special types of Grid class such as grid with obstacles that constitute something like a *maze* or an agent walking on *cliff* which can occasionally fall off etc. Therefore, we define below a set of useful functions that returns these types of Grids. Also we have adopt the convention of adding a prefix to the word Grid to all classes that are derived from the Grid class. Finally, to avoid redefining the above functions we have used the Grid=Grid to pass the kind of Grid class that we meant to generate an instance of."
   ]
  },
  {
   "cell_type": "code",
   "execution_count": null,
   "id": "3132d56b",
   "metadata": {},
   "outputs": [],
   "source": [
    "#-------------------------------suitable for control------------------------------------------------\n",
    "def grid(Grid=Grid, **kw):\n",
    "    return Grid(gridsize=[8, 10], s0=31, goals=[36], **kw)\n",
    "\n",
    "def grid8(Grid=Grid, **kw): \n",
    "    return grid(Grid=Grid, nA=8, **kw)\n",
    "\n",
    "def windy(Grid=Grid,  **kw):\n",
    "    return Grid(gridsize=[7, 10], s0=30, goals=[37], style='windy', **kw)\n",
    "\n",
    "def cliffwalk(Grid=Grid, **kw):\n",
    "    return Grid(gridsize=[4, 12], s0=0,  goals=[11], style='cliff', reward='cliffwalk', figsize=[12,2], **kw)\n",
    "\n",
    "def maze(Grid=Grid, r=6, c=9, **kw):\n",
    "    return Grid(gridsize=[r,c], s0=r//2*c, goals=[r*c-1], style='maze', **kw)\n",
    "\n",
    "def maze_large(Grid=Grid, **kw):\n",
    "    return maze(Grid=Grid, r=16, c=26, figsize=[25,4],**kw)\n",
    "\n",
    "def maze8(Grid=Grid, **kw): \n",
    "    return maze(Grid=Grid, nA=8, **kw)\n",
    "\n",
    "#-------------------------------suitable for prediction------------------------------------------------\n",
    "def randwalk(Grid=Grid, nS=5+2, Vstar=None, **kw):\n",
    "    if Vstar is None: Vstar = np.arange(0,nS)/(nS-1)\n",
    "    return Grid(gridsize=(1,nS), reward='randwalk', nA=2, goals=[0,nS-1], s0=nS//2, Vstar=Vstar, **kw)\n",
    "\n",
    "\n",
    "def randwalk_(Grid=Grid, nS=19+2, Vstar=None, **kw):\n",
    "    if Vstar is None: Vstar = np.arange(-(nS-1),nS,2)/(nS-1)\n",
    "    return Grid(gridsize=(1,nS), reward='randwalk_', nA=2, goals=[0,nS-1], s0=nS//2, Vstar=Vstar,**kw)"
   ]
  },
  {
   "cell_type": "markdown",
   "id": "583e0793",
   "metadata": {},
   "source": [
    "Let us now try these functions that return different grid environments with visualisation."
   ]
  },
  {
   "cell_type": "markdown",
   "id": "fd240067",
   "metadata": {},
   "source": [
    "## Simple grid world environment\n",
    "In this environment the agent is placed in front of a goal and it just needs to go straight to find it. However to make it more difficult we ordered the actions from left to right and down to top so the agent usually picks left before right and down before top."
   ]
  },
  {
   "cell_type": "code",
   "execution_count": null,
   "id": "1b48e694",
   "metadata": {},
   "outputs": [],
   "source": [
    "gw = grid()\n",
    "gw.render() "
   ]
  },
  {
   "cell_type": "code",
   "execution_count": null,
   "id": "99848542",
   "metadata": {},
   "outputs": [],
   "source": [
    "gw.rewards"
   ]
  },
  {
   "cell_type": "markdown",
   "id": "80ebab93",
   "metadata": {},
   "source": [
    "## Windy Environment\n",
    "In a windy environment we apply a wind upwards which will push the agent 1 or 2 cells above what would be its next cell when moving in the grid. The result is that the agent will find itself pushed toward the top borders of the grid. Below we show an example."
   ]
  },
  {
   "cell_type": "code",
   "execution_count": null,
   "id": "1f6eab5a",
   "metadata": {},
   "outputs": [],
   "source": [
    "gw = windy()\n",
    "gw.render()\n",
    "gw.s0=0\n",
    "wander(gw, pause=0)"
   ]
  },
  {
   "cell_type": "code",
   "execution_count": null,
   "id": "a4437399",
   "metadata": {},
   "outputs": [],
   "source": [
    "gw.rewards"
   ]
  },
  {
   "cell_type": "markdown",
   "id": "ce6bc343",
   "metadata": {},
   "source": [
    "## Maze environment\n",
    "In a maze environment the agent is supposed to go form a start position to a goal position. On the way there are some obstacles that block the agent path and the goal is almost hidden in the top corner so that it is not readily accessible by the agent."
   ]
  },
  {
   "cell_type": "code",
   "execution_count": null,
   "id": "4f02793a",
   "metadata": {},
   "outputs": [],
   "source": [
    "wander(gw=Grid(style='maze'), pause=0)"
   ]
  },
  {
   "cell_type": "markdown",
   "id": "1eccaae9",
   "metadata": {},
   "source": [
    "## Random walk environment\n",
    "In a random walk environment we simply allow the agent to flip a coin and accordingly either go left or right. The environment has two goals one to the right which yields a positive reward of 1 and one to the left which yields no reward or a negative reward, all intermediate states have rewards of 0. Below we show a visualisation of this environment."
   ]
  },
  {
   "cell_type": "code",
   "execution_count": null,
   "id": "261b8021",
   "metadata": {},
   "outputs": [],
   "source": [
    "rw = randwalk()\n",
    "rw.render()"
   ]
  },
  {
   "cell_type": "code",
   "execution_count": null,
   "id": "caebc69f",
   "metadata": {},
   "outputs": [],
   "source": [
    "rw.render(underhood='letters')"
   ]
  },
  {
   "cell_type": "markdown",
   "id": "6d7a3c28",
   "metadata": {},
   "source": [
    "The rewards array is different that the *set* of possible rewards that we will use later. Observe the difference in the below."
   ]
  },
  {
   "cell_type": "code",
   "execution_count": null,
   "id": "8093e59b",
   "metadata": {},
   "outputs": [],
   "source": [
    "rw.rewards"
   ]
  },
  {
   "cell_type": "code",
   "execution_count": null,
   "id": "3f9bc6c2",
   "metadata": {},
   "outputs": [],
   "source": [
    "rw.rewards_set()"
   ]
  },
  {
   "cell_type": "code",
   "execution_count": null,
   "id": "5fdc9737",
   "metadata": {},
   "outputs": [],
   "source": [
    "rw = randwalk_()\n",
    "rw.render()"
   ]
  },
  {
   "cell_type": "code",
   "execution_count": null,
   "id": "8f33bab2",
   "metadata": {},
   "outputs": [],
   "source": [
    "print(rw.rewards)\n",
    "print(rw.rewards_set())"
   ]
  },
  {
   "cell_type": "code",
   "execution_count": null,
   "id": "dc0b8f98",
   "metadata": {
    "scrolled": true
   },
   "outputs": [],
   "source": [
    "wander(rw)"
   ]
  },
  {
   "cell_type": "code",
   "execution_count": null,
   "id": "3f59dbc4",
   "metadata": {},
   "outputs": [],
   "source": [
    "gw8 = grid8()\n",
    "gw8.s = 50\n",
    "# wander(gw=gw8, pause=0)"
   ]
  },
  {
   "cell_type": "markdown",
   "id": "7e103e77",
   "metadata": {},
   "source": [
    "Let us now visualise a random policy. This policy will not be useful of course for the agent to achieve its goal but it will show us how to move from a chaotic policy to an optimal one."
   ]
  },
  {
   "cell_type": "code",
   "execution_count": null,
   "id": "1814f9b3",
   "metadata": {},
   "outputs": [],
   "source": [
    "π=np.random.randint(gw8.nA, size=gw8.nS)\n",
    "gw8.render(underhood='π', π=π)"
   ]
  },
  {
   "cell_type": "markdown",
   "id": "035c1f07",
   "metadata": {},
   "source": [
    "## Cliff walking environment\n",
    "In a cliff walking environment the agent needs to go purposely from a start position to a goal state. In between there is a cliff edge cells that if the agent steps into it fall off and reset into its start position."
   ]
  },
  {
   "cell_type": "code",
   "execution_count": null,
   "id": "e5338d20",
   "metadata": {
    "scrolled": true
   },
   "outputs": [],
   "source": [
    "cw = cliffwalk()\n",
    "cw.render()"
   ]
  },
  {
   "cell_type": "code",
   "execution_count": null,
   "id": "e32803d8",
   "metadata": {},
   "outputs": [],
   "source": [
    "# wander(cw, pause=0)"
   ]
  },
  {
   "cell_type": "markdown",
   "id": "eff0bd81",
   "metadata": {},
   "source": [
    "## Mazes with different sizes"
   ]
  },
  {
   "cell_type": "code",
   "execution_count": null,
   "id": "95973d0a",
   "metadata": {},
   "outputs": [],
   "source": [
    "def maze(rows=6, cols=9, **kw):\n",
    "    return Grid(gridsize=[rows,cols], s0=int(rows//2)*cols, goals=[rows*cols-1], style='maze', **kw)"
   ]
  },
  {
   "cell_type": "code",
   "execution_count": null,
   "id": "01a90c88",
   "metadata": {},
   "outputs": [],
   "source": [
    "class mazes:\n",
    "    def __init__(self, m=6, **kw):\n",
    "        gridsizes = [(6, 9), (9 , 12), (12, 18), (16, 26), (24, 34), (32, 50), (39, 81), (60, 104)][:m]\n",
    "        self.env = []\n",
    "        for rows,cols in gridsizes:\n",
    "            self.env.append(maze(rows,cols, **kw))\n",
    "    \n",
    "    def __getitem__(self, i): return self.env[i]\n",
    "    \n",
    "    def sizes(self):\n",
    "        sizes = [0]\n",
    "        for mz in  self.env: sizes.append(mz.nS_available())\n",
    "        return sizes\n",
    "\n",
    "print(mazes().sizes())"
   ]
  },
  {
   "cell_type": "code",
   "execution_count": null,
   "id": "f6d82727",
   "metadata": {},
   "outputs": [],
   "source": [
    "12*.75"
   ]
  },
  {
   "cell_type": "code",
   "execution_count": null,
   "id": "89ce765a",
   "metadata": {},
   "outputs": [],
   "source": [
    "env=mazes(figsize=[19,3.5])[3]\n",
    "env.s=20\n",
    "env.render()"
   ]
  },
  {
   "cell_type": "code",
   "execution_count": null,
   "id": "eb510ff7",
   "metadata": {},
   "outputs": [],
   "source": [
    "V0 = [.6, .4, .5, .7, .1, .2, .1, .5, 0]\n",
    "env3x3 = Grid(gridsize=[3, 3], reward='reward_1', s0=0, goals=[8], figsize=[10,1])\n",
    "env3x3.render(underhood='V', V=V0)"
   ]
  },
  {
   "cell_type": "code",
   "execution_count": null,
   "id": "0ac683cd",
   "metadata": {},
   "outputs": [],
   "source": [
    "V0 = [.3, .4, .5, .6, .7, 0]\n",
    "env2x3 = Grid(gridsize=[2, 3], s0=0, goals=[5], figsize=[10,1])\n",
    "env2x3.render(underhood='V', V=V0)"
   ]
  },
  {
   "cell_type": "markdown",
   "id": "245d34fd",
   "metadata": {},
   "source": [
    "## Grid class misuse"
   ]
  },
  {
   "cell_type": "markdown",
   "id": "5e6a1930",
   "metadata": {},
   "source": [
    "The Grid class is not perfect by any means, but we made enough effort to make it work for *our purposes* and it is not well-protected against hostile usage. For example, when we use the render with underhood ='letters' for a 2-d grid it will not make sense because it is intended for a 1-d random walk problem. See below"
   ]
  },
  {
   "cell_type": "code",
   "execution_count": null,
   "id": "75566069",
   "metadata": {
    "scrolled": true
   },
   "outputs": [],
   "source": [
    "gw = Grid(style='maze')\n",
    "gw.render(underhood='letters', pause=1)"
   ]
  },
  {
   "cell_type": "markdown",
   "id": "3cf90f87",
   "metadata": {},
   "source": [
    "Likewise, jumping is not protected against invalid moves."
   ]
  },
  {
   "cell_type": "code",
   "execution_count": null,
   "id": "dcf1e545",
   "metadata": {},
   "outputs": [],
   "source": [
    "mz = maze()\n",
    "mz.render()\n",
    "plt.pause(3)\n",
    "mz.jump = 3\n",
    "mz.step(0)\n",
    "mz.render()"
   ]
  },
  {
   "cell_type": "markdown",
   "id": "5cc16762",
   "metadata": {},
   "source": [
    "## Conclusion\n",
    "In this lesson, we covered a set of basic grid world environments that we will utilise in other lessons. You do not necessarily need to understand how the grid is programmatically built, but you need to understand how it operates.!"
   ]
  },
  {
   "cell_type": "markdown",
   "id": "5222ade1",
   "metadata": {},
   "source": [
    "## Your turn\n",
    "1. try to manually create a policy that will help the agent to reach its goal from any cell in the grid, use a simple 3x2 grid\n",
    "2. try increase the grid size and see if you can come up with a policy function that will scale up consistently when we increase the grid size."
   ]
  }
 ],
 "metadata": {
  "kernelspec": {
   "display_name": "Python 3 (ipykernel)",
   "language": "python",
   "name": "python3"
  },
  "language_info": {
   "codemirror_mode": {
    "name": "ipython",
    "version": 3
   },
   "file_extension": ".py",
   "mimetype": "text/x-python",
   "name": "python",
   "nbconvert_exporter": "python",
   "pygments_lexer": "ipython3",
   "version": "3.12.7"
  }
 },
 "nbformat": 4,
 "nbformat_minor": 5
}
