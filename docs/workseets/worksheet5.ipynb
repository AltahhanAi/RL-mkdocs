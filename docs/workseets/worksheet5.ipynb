{
 "cells": [
  {
   "cell_type": "markdown",
   "id": "89ae6ef3",
   "metadata": {},
   "source": [
    "# Worksheet 5- Dynamic Programming: Model-Based Approach\n",
    "\n",
    "**Learning outcomes**\n",
    "1. understand what we mean by the dynamics of the environment\n",
    "2. understand how the environment's dynamics are used in the Bellman equation\n",
    "3. use the dynamics to estimate the value function and the action-value function via dynamic programming \n",
    "4. understand the policy improvement theorem\n",
    "5. understand the policy-iteration and value-iteration algorithms as the backbone of many RL algorithms"
   ]
  },
  {
   "cell_type": "markdown",
   "id": "1d5f1ca1",
   "metadata": {},
   "source": [
    "In the first lesson, you looked at a basic RL problem, the k-arm bandit, which involves only actions and no states (non-associative problem). In general, in RL, we are faced with different situations, and we need to take different actions in each situation in order to achieve a certain goal. This general type of environment with states and actions imposes a different flavour to the solution we can design. From now on, we will tackle associative problems. For associative problems, there are two approaches:\n",
    "\n",
    "1. Model-based approach\n",
    "2. Model-free approach\n",
    "\n",
    "In this lesson, we will take the first approach. We will learn how to use a model of the environment to solve an RL problem. The model is given in the form of the dynamics of the environment. These usually come in the form of 4 dimensions of conditional probability involving an answer to the following question: what is the probability of obtaining a certain reward r in a certain state s' given that the agent was previously in a state s and applied action a.\n",
    "\n",
    "We will assume that there is already a model for the environment and try to take advantage of this model to come up with the best policy. Nevertheless, we will see simple ways to build such models and come back to this question later when we tackle planning algorithms in RL."
   ]
  },
  {
   "cell_type": "markdown",
   "id": "3ba261a3",
   "metadata": {},
   "source": [
    "**Plan**\n",
    "As usual, in general there are two types of RL problems that we will attempt to design methods to deal with \n",
    "1. Prediction problem\n",
    "For These problems we will design Policy Evaluation Methods that attempt to find the best estimate for the value-function given a policy.\n",
    "\n",
    "\n",
    "2. Control problems \n",
    "For These problems we will design Value Iteration methods which utilise the idea of Generalised Policy Iteration. They attempt to find the best policy, via estimating an action-value function for a current policy then moving to a better and improved policy by choosing a greedy action often.\n"
   ]
  },
  {
   "cell_type": "markdown",
   "id": "f9d766b0-501c-47f9-a37f-594da6943562",
   "metadata": {},
   "source": [
    "To help you, Abdulrahman recorded a set of videos that covers the material"
   ]
  },
  {
   "cell_type": "code",
   "execution_count": 1,
   "id": "0d124eec",
   "metadata": {},
   "outputs": [
    {
     "data": {
      "text/html": [
       "<style>.container {width:90% !important}</style>"
      ],
      "text/plain": [
       "<IPython.core.display.HTML object>"
      ]
     },
     "metadata": {},
     "output_type": "display_data"
    }
   ],
   "source": [
    "from env.grid import *"
   ]
  },
  {
   "cell_type": "code",
   "execution_count": 2,
   "id": "25bbf258",
   "metadata": {},
   "outputs": [],
   "source": [
    "%matplotlib inline"
   ]
  },
  {
   "cell_type": "markdown",
   "id": "a9dc74e3",
   "metadata": {},
   "source": [
    "We start by generating conditional probabilities from random joint probabilities, then we move into generating them from a model."
   ]
  },
  {
   "cell_type": "markdown",
   "id": "1df0b1e5",
   "metadata": {},
   "source": [
    "## 1D Probability\n",
    "Let us start by defining a 1D probability function "
   ]
  },
  {
   "cell_type": "code",
   "execution_count": 3,
   "id": "0ca14d61",
   "metadata": {},
   "outputs": [
    {
     "name": "stdout",
     "output_type": "stream",
     "text": [
      "[0.19302667 0.0883142  0.48800438 0.20441828 0.02623647] 1.0\n"
     ]
    }
   ],
   "source": [
    "def P(nS):\n",
    "    p = np.zeros(nS)\n",
    "    for s in range(nS):\n",
    "        p[s] = rand()\n",
    "        \n",
    "    return p/p.sum()\n",
    "p = P(5)\n",
    "print(p, p.sum())\n"
   ]
  },
  {
   "cell_type": "markdown",
   "id": "edcf017d",
   "metadata": {},
   "source": [
    "## 2D Probability: Joint Probability\n",
    "Let us move to defining a joint probability function "
   ]
  },
  {
   "cell_type": "code",
   "execution_count": 4,
   "id": "a0a2f6e3",
   "metadata": {},
   "outputs": [
    {
     "name": "stdout",
     "output_type": "stream",
     "text": [
      "[[0.13141025 0.06871404]\n",
      " [0.10711561 0.11767212]\n",
      " [0.07929051 0.15251026]\n",
      " [0.10149876 0.17970964]\n",
      " [0.05547981 0.00659901]] 1.0\n"
     ]
    }
   ],
   "source": [
    "def P(nS,nA):\n",
    "    p = np.zeros((nS,nA))\n",
    "    for s in range(nS):\n",
    "        for a in range(nA):\n",
    "            p[s,a] = rand()\n",
    "            \n",
    "        \n",
    "    # /p.sum() to make sure that this is a joint probability density, i.e. p.sum()==1\n",
    "    return p/p.sum() \n",
    "p = P(5,2)\n",
    "print(p, p.sum())"
   ]
  },
  {
   "cell_type": "markdown",
   "id": "571717df",
   "metadata": {},
   "source": [
    "Note that p[s,a] in the above is interpreted as the probability of being in state *s* and taking action *a* at the same time"
   ]
  },
  {
   "cell_type": "markdown",
   "id": "a2f7f19e",
   "metadata": {},
   "source": [
    "## 2D Probability: Conditional Probability\n",
    "Let us move to defining a conditional probability function. Remember that a conditional probability must satisfy that Bayes rule.\n",
    "\n",
    "In the below pr[sn,a] is interpreted as pr[sn|a] the probability of moving to state sn given that we took action a "
   ]
  },
  {
   "cell_type": "code",
   "execution_count": 5,
   "id": "226157a8",
   "metadata": {},
   "outputs": [
    {
     "name": "stdout",
     "output_type": "stream",
     "text": [
      "[[0.07633484 0.40510885]\n",
      " [0.23124958 0.02606327]\n",
      " [0.2284572  0.00166978]\n",
      " [0.16273301 0.40851965]\n",
      " [0.30122537 0.15863845]]\n",
      "[1. 1.]\n"
     ]
    }
   ],
   "source": [
    "def P(nS,nA):\n",
    "    pr = np.zeros((nS,nA)) # joint\n",
    "    p  = np.zeros((nS,nA)) # conditional\n",
    "    \n",
    "    # first create a joint probability\n",
    "    for sn in range(nS):\n",
    "        for a in range(nA):\n",
    "            pr[sn,a] = rand()\n",
    "\n",
    "    # to make sure that this is a joint probability density\n",
    "    pr=pr/pr.sum() \n",
    "    \n",
    "    # now create a conditional probability via Bayes rule\n",
    "    for a in range(nA):\n",
    "        p[:,a] = pr[:,a]/pr[:,a].sum()\n",
    "            \n",
    "            \n",
    "    return p\n",
    "\n",
    "p = P(5,2)\n",
    "print(p)\n",
    "print(p.sum(0))"
   ]
  },
  {
   "cell_type": "markdown",
   "id": "dd12f07d",
   "metadata": {},
   "source": [
    "## 4D Probability: Random Dynamic"
   ]
  },
  {
   "cell_type": "markdown",
   "id": "4fcc5adf",
   "metadata": {},
   "source": [
    "Our goal now is to be able to obtain a probability that can represent a random environment dynamics. Such a probability has the form of p[sn,rn | s,a] which represents the probability of moving to next state sn and obtaining the reward rn given that the agent was in state s and took action a.\n",
    "\n",
    "We generalise the above method of obtaining conditional probabilities from random joint probability density to 4-d. We have not dealt with 3-d cases for brevity. This time we will make it a bit more efficient by avoiding the four for loops and utilising the vectorised version of the rand() function in numpy and we convert to a conditional in-place to avoid having two probabilities p and pr."
   ]
  },
  {
   "cell_type": "code",
   "execution_count": 6,
   "id": "bb0143ef",
   "metadata": {},
   "outputs": [
    {
     "name": "stdout",
     "output_type": "stream",
     "text": [
      "[[[[0.13983182 0.185154  ]\n",
      "   [0.03277291 0.22689152]\n",
      "   [0.12122526 0.18246106]]\n",
      "\n",
      "  [[0.04341335 0.02957823]\n",
      "   [0.06565811 0.09208746]\n",
      "   [0.16530246 0.15616849]]]\n",
      "\n",
      "\n",
      " [[[0.17170822 0.11372288]\n",
      "   [0.35060004 0.15711246]\n",
      "   [0.09029427 0.03690182]]\n",
      "\n",
      "  [[0.23036144 0.22873717]\n",
      "   [0.10199582 0.21680909]\n",
      "   [0.17286642 0.26829108]]]\n",
      "\n",
      "\n",
      " [[[0.22090076 0.25515099]\n",
      "   [0.27219893 0.09254671]\n",
      "   [0.20059867 0.21573972]]\n",
      "\n",
      "  [[0.19378441 0.18765674]\n",
      "   [0.17677418 0.21455275]\n",
      "   [0.24971291 0.14043782]]]]\n",
      "[[1. 1.]\n",
      " [1. 1.]\n",
      " [1. 1.]]\n"
     ]
    }
   ],
   "source": [
    "def dynrand(nS, nA, nR): # states, actions, rewards dimensions \n",
    "    #first joint: p[sn,rn, s,a]\n",
    "    p  = np.random.rand(nS,nR,  nS,nA)\n",
    "    p /= p.sum()\n",
    "    \n",
    "    #convert it to conditional: p[sn,rn| s,a] \n",
    "    for s in range(nS):\n",
    "        for a in range(nA):\n",
    "            p[:,:, s,a] /= p[:,:, s,a].sum()\n",
    "        \n",
    "    return p\n",
    "\n",
    "p = dynrand(3,2,2)\n",
    "print(p)\n",
    "print(p.sum(0).sum(0))"
   ]
  },
  {
   "cell_type": "markdown",
   "id": "0cd0fd6b",
   "metadata": {},
   "source": [
    "## Inducing the dynamics by interacting with the environment\n",
    "\n",
    "Now we move into obtaining the dynamics from an actual environment instead of generating the dynamics randomly as we did earlier.\n",
    "\n",
    "We will use mainly the random walk environment and the grid world environment and generate their dynamics. These are deterministic simple environments. Nevertheless, they are very useful to demonstrate the ideas of RL. \n",
    "\n",
    "Note that when we move to the real world the dynamics become much more complex and building or obtaining the dynamic becomes impractical in most cases. Therefore, towards that end instead of dealing directly with the environment's dynamics, we will see later how we can substitute this requirement by having to *interact* with the environment to gain *experience* which will help us *infer* a good *estimate* of the *expected* value function (discounted sum of rewards) which in turn will help us to *infer* a close to *optimal policy* for the task in hand. \n",
    "\n",
    "The exercise of dealing with probabilities and then using them in designing a Dynamic Programming solution is valuable since most of the other solutions utilise the basic ideas (policy iteration, value iteration algorithms and policy improvements theorem) that we cover here and will mainly show us that we can devise a form of Bellman equation that is suitable for interaction, where we use sampling, model-free algorithms instead of using probabilities(dynamics), model-based algorithms. \n",
    "\n",
    "Dynamic programming suffers from what Bellman described as the curse of dimensionality which indicates that the computational resources required to solve a problem grow exponentially with the dimensionality of the problem. So in our case, the dimensionality is the number of states (as well as actions and rewards). So for example if the dynamic programming solution computational complexity is $2^{|S|}$ and the number of states $|S|=10$ then it costs $2^{10}=1024$ but when the number of states $|S|$ grows to 100 the cost becomes $2^{100}=1267650600228229401496703205376$."
   ]
  },
  {
   "cell_type": "code",
   "execution_count": 7,
   "id": "a5f18a93",
   "metadata": {},
   "outputs": [
    {
     "name": "stdout",
     "output_type": "stream",
     "text": [
      "1024\n",
      "1267650600228229401496703205376\n"
     ]
    }
   ],
   "source": [
    "print(2**10)\n",
    "print(2**100)"
   ]
  },
  {
   "cell_type": "markdown",
   "id": "4fc8eacc-a6a5-4bc3-b6f5-a37e9e95cba0",
   "metadata": {},
   "source": [
    "## Sources Stochasticity- Dynamics and Policy\n",
    "\n",
    "One important point to make is that stochasticity comes from different elements of the MDP and from the policy itself.\n",
    "\n",
    "1. There might be stochasticity in the dynamics at the state transition level,\n",
    "   where applying action $a$ in a state $s$ may cause the agent to transition to different states, each with a different probability\n",
    "1. There might be stochasticity in the dynamics at the reward level,\n",
    "   where applying action $a$ in a state $s$ may result in different rewards, each with a certain probability\n",
    "  \n",
    "1. There might be stochasticity in the policy itself,\n",
    "   where the policy applies different actions in a state $s$  with different probabilities\n",
    "   \n",
    "1. There might be stochasticity or randomness in observing the current state due to the complexity of the state space. \n",
    "   For example, when a robot moves around in the environment, after a while, we cannot reliably designate its position from its motor encoders even when we know the start position due to dead-reckoning. This is called partial observability, and there is a framework called BOMDP or partially observable MDP to tackle this problem. However, we will not study this branch. The field is divided about the necessity of BOMDP with a line of thought that considers that we can overcome this difficulty by encoding our states differently but staying in the MDP framework.\n",
    "\n",
    "These sources of stochasticity dictate using suitable techniques to obtain the dynamics and to evaluate or improve stochastic and deterministic policy."
   ]
  },
  {
   "cell_type": "code",
   "execution_count": 8,
   "id": "4e625ad3",
   "metadata": {},
   "outputs": [],
   "source": [
    "def dynamics(env=randwalk(), show=False, stoch=True, repeat=1000 ): #, maxjump=1\n",
    "    rewards = env.rewards_set()\n",
    "    nS, nA, nR = env.nS, env.nA, rewards.shape[0]\n",
    "    p  = np.zeros((nS,nR,  nS,nA))\n",
    "    \n",
    "    for i in range(repeat if not stoch else 1): # in case the env is stochastic (non-deterministic)\n",
    "        for s in range(nS):\n",
    "            # if s in env.goals: continue # uncomment to explicitly make pr of terminal states=0\n",
    "            for a in range(nA):\n",
    "                if not i and show: env.render() # render the first repetition only\n",
    "                env.s = s\n",
    "                sn,rn,_,_ = env.step(a)\n",
    "                rd = np.where(rewards==rn)[0][0] # get which reward index we need to update\n",
    "                p[sn,rd, s,a] +=1\n",
    "            \n",
    "    # making sure that it is a conditional probability that satisfies Bayes rule\n",
    "    for s in range(nS):\n",
    "        for a in range(nA):\n",
    "            sm=p[:,:, s,a].sum()\n",
    "            if sm: p[:,:, s,a] /= sm\n",
    "            \n",
    "    return p"
   ]
  },
  {
   "cell_type": "markdown",
   "id": "2fb586cc",
   "metadata": {},
   "source": [
    "Note that we excluded the terminal states so that their dynamics are always 0. This is not entirely necessary, since in our algorithm implementations we always initiate the terminal states' values to 0 and avoid updating them. \n",
    "\n",
    "Note also that states and actions can be immediately interpreted as indexes. Rewards on the other hand are allowed to be real values. Therefore, we need to obtain the index of the reward value that we need to update since p[sn, rn, s,a] expects an index in rn."
   ]
  },
  {
   "cell_type": "markdown",
   "id": "91915422",
   "metadata": {},
   "source": [
    "Let us now test our dynamics extraction procedure on a deterministic random walk environment:"
   ]
  },
  {
   "cell_type": "code",
   "execution_count": 9,
   "id": "effed4b6",
   "metadata": {},
   "outputs": [
    {
     "data": {
      "image/png": "[encoded data removed]",
      "text/plain": [
       "<Figure size 1500x50 with 1 Axes>"
      ]
     },
     "metadata": {},
     "output_type": "display_data"
    },
    {
     "name": "stdout",
     "output_type": "stream",
     "text": [
      "(7, 2, 7, 2)\n",
      "[[1. 1.]\n",
      " [1. 1.]\n",
      " [1. 1.]\n",
      " [1. 1.]\n",
      " [1. 1.]\n",
      " [1. 1.]\n",
      " [1. 1.]]\n"
     ]
    }
   ],
   "source": [
    "p = dynamics(env=randwalk(), show=True)\n",
    "print(p.shape)\n",
    "print(p.sum(0).sum(0))\n",
    "# print(p)"
   ]
  },
  {
   "cell_type": "markdown",
   "id": "7422958c",
   "metadata": {},
   "source": [
    "The above shows that the probabilities of agent having been in state 0:6 (rows) and have gone left (column 0) all sum up to 1 except for the last terminal state 6 because once the agent is there it stays there and cannot move left. Also it shows equally that the probabilities of agent having been in state 0:6 and have gone right (column 1) all sum up to 1 except for the first terminal state 0 because once the agent is there it stays there and cannot move right. \n",
    "\n",
    "To further explain and dissect the generated probability dynamics we examine different states probabilities with different rewards."
   ]
  },
  {
   "cell_type": "code",
   "execution_count": 10,
   "id": "c21dcd55",
   "metadata": {},
   "outputs": [],
   "source": [
    "def print_dynamcis(s):\n",
    "    print('-----------------------------Agent was in non-terminal state %d---------------------------------'%s)\n",
    "    print('Pr[of moving to states 0:6 and obtaining reward 0 |give agent was in state %d and moved left(0)]'%s)\n",
    "    print(p[:,0, s,0])\n",
    "\n",
    "    print('Pr[of moving to states 0:6 and obtaining reward 0 |give agent was in state %d and moved right(1)]'%s)\n",
    "    print(p[:,0, s,1])\n",
    "\n",
    "    print('Pr[of moving to states 0:6 and obtaining reward 1 |give agent was in state %d and moved left(0)]'%s)\n",
    "    print(p[:,1, s,0])\n",
    "\n",
    "    print('Pr[of moving to states 0:6 and obtaining reward 1 |give agent was in state %d and moved right(1)]'%s)\n",
    "    print(p[:,1, s,1])"
   ]
  },
  {
   "cell_type": "code",
   "execution_count": 11,
   "id": "c54fdc8d",
   "metadata": {},
   "outputs": [
    {
     "name": "stdout",
     "output_type": "stream",
     "text": [
      "-----------------------------Agent was in non-terminal state 2---------------------------------\n",
      "Pr[of moving to states 0:6 and obtaining reward 0 |give agent was in state 2 and moved left(0)]\n",
      "[0. 1. 0. 0. 0. 0. 0.]\n",
      "Pr[of moving to states 0:6 and obtaining reward 0 |give agent was in state 2 and moved right(1)]\n",
      "[0. 0. 0. 1. 0. 0. 0.]\n",
      "Pr[of moving to states 0:6 and obtaining reward 1 |give agent was in state 2 and moved left(0)]\n",
      "[0. 0. 0. 0. 0. 0. 0.]\n",
      "Pr[of moving to states 0:6 and obtaining reward 1 |give agent was in state 2 and moved right(1)]\n",
      "[0. 0. 0. 0. 0. 0. 0.]\n"
     ]
    }
   ],
   "source": [
    "print_dynamcis(s=2)"
   ]
  },
  {
   "cell_type": "code",
   "execution_count": 12,
   "id": "401489ee",
   "metadata": {},
   "outputs": [
    {
     "name": "stdout",
     "output_type": "stream",
     "text": [
      "-----------------------------Agent was in non-terminal state 5---------------------------------\n",
      "Pr[of moving to states 0:6 and obtaining reward 0 |give agent was in state 5 and moved left(0)]\n",
      "[0. 0. 0. 0. 1. 0. 0.]\n",
      "Pr[of moving to states 0:6 and obtaining reward 0 |give agent was in state 5 and moved right(1)]\n",
      "[0. 0. 0. 0. 0. 0. 0.]\n",
      "Pr[of moving to states 0:6 and obtaining reward 1 |give agent was in state 5 and moved left(0)]\n",
      "[0. 0. 0. 0. 0. 0. 0.]\n",
      "Pr[of moving to states 0:6 and obtaining reward 1 |give agent was in state 5 and moved right(1)]\n",
      "[0. 0. 0. 0. 0. 0. 1.]\n"
     ]
    }
   ],
   "source": [
    "print_dynamcis(s=5)"
   ]
  },
  {
   "cell_type": "markdown",
   "id": "eb72e4d1",
   "metadata": {},
   "source": [
    "Note that the probability of the penultimate state is a bit different than a mid-state such as 2. The reason is that when the agent move left it will get a 0 reward while when it moves right it will get a reward of 1."
   ]
  },
  {
   "cell_type": "code",
   "execution_count": 13,
   "id": "c9872032",
   "metadata": {},
   "outputs": [
    {
     "name": "stdout",
     "output_type": "stream",
     "text": [
      "-----------------------------Agent was in non-terminal state 0---------------------------------\n",
      "Pr[of moving to states 0:6 and obtaining reward 0 |give agent was in state 0 and moved left(0)]\n",
      "[1. 0. 0. 0. 0. 0. 0.]\n",
      "Pr[of moving to states 0:6 and obtaining reward 0 |give agent was in state 0 and moved right(1)]\n",
      "[0. 1. 0. 0. 0. 0. 0.]\n",
      "Pr[of moving to states 0:6 and obtaining reward 1 |give agent was in state 0 and moved left(0)]\n",
      "[0. 0. 0. 0. 0. 0. 0.]\n",
      "Pr[of moving to states 0:6 and obtaining reward 1 |give agent was in state 0 and moved right(1)]\n",
      "[0. 0. 0. 0. 0. 0. 0.]\n"
     ]
    }
   ],
   "source": [
    "print_dynamcis(s=0)"
   ]
  },
  {
   "cell_type": "code",
   "execution_count": 14,
   "id": "cd68e839",
   "metadata": {},
   "outputs": [
    {
     "name": "stdout",
     "output_type": "stream",
     "text": [
      "-----------------------------Agent was in non-terminal state 6---------------------------------\n",
      "Pr[of moving to states 0:6 and obtaining reward 0 |give agent was in state 6 and moved left(0)]\n",
      "[0. 0. 0. 0. 0. 1. 0.]\n",
      "Pr[of moving to states 0:6 and obtaining reward 0 |give agent was in state 6 and moved right(1)]\n",
      "[0. 0. 0. 0. 0. 0. 0.]\n",
      "Pr[of moving to states 0:6 and obtaining reward 1 |give agent was in state 6 and moved left(0)]\n",
      "[0. 0. 0. 0. 0. 0. 0.]\n",
      "Pr[of moving to states 0:6 and obtaining reward 1 |give agent was in state 6 and moved right(1)]\n",
      "[0. 0. 0. 0. 0. 0. 1.]\n"
     ]
    }
   ],
   "source": [
    "print_dynamcis(s=6)"
   ]
  },
  {
   "cell_type": "markdown",
   "id": "48e0f514",
   "metadata": {},
   "source": [
    "Uncomment the xor relationship and see the effect on the resultant policy."
   ]
  },
  {
   "cell_type": "markdown",
   "id": "44f6069c",
   "metadata": {},
   "source": [
    "## Accommodating for jumps in the environment\n",
    "Some environments might allow the agent to jump over some obstacles or simply skip cells. For these, we define slightly altered dynamics to take the jumps into account. Below we show the definition."
   ]
  },
  {
   "cell_type": "code",
   "execution_count": 15,
   "id": "41091ef0",
   "metadata": {},
   "outputs": [],
   "source": [
    "def dynamics(env=randwalk(), stoch=False, show=False, repeat=1000): # , maxjump=1\n",
    "\n",
    "    rewards = env.rewards_set()\n",
    "    nS, nA, nR = env.nS, env.nA, rewards.shape[0]\n",
    "    p  = np.zeros((nS,nR,  nS,nA))\n",
    "    randjump = env.randjump\n",
    "    env.randjump = False # so that probability of all intermed. jumps is correctly calculated\n",
    "    for i in trange(repeat if stoch else 1): # in case the env is stochastic (non-deterministic)\n",
    "        for s in range(nS):\n",
    "            if s in env.goals: continue # uncomment to explicitly make pr of terminal states=0\n",
    "            for a in range(nA):\n",
    "                for jump in (range(1,env.jump+1) if randjump else [env.jump]):\n",
    "                    if not i and show: env.render() # render the first repetition only\n",
    "                    env.s = s\n",
    "                    env.jump = jump\n",
    "                    rn = env.step(a)[1]\n",
    "                    sn = env.s\n",
    "                    rn_ = np.where(rewards==rn)[0][0] # get reward index we need to update\n",
    "                    p[sn,rn_, s,a] +=1\n",
    "                    \n",
    "    env.randjump = randjump\n",
    "    # making sure that it is a conditional probability that satisfies Bayes rule\n",
    "    for s in range(nS):\n",
    "        for a in range(nA):\n",
    "            sm=p[:,:, s,a].sum()\n",
    "            if sm: p[:,:, s,a] /= sm\n",
    "            \n",
    "    return p"
   ]
  },
  {
   "cell_type": "markdown",
   "id": "30a6a1e4",
   "metadata": {},
   "source": [
    "### State-Transition probability: reward marginalisation"
   ]
  },
  {
   "cell_type": "markdown",
   "id": "3ca847ac",
   "metadata": {},
   "source": [
    "Now that we have induced the dynamics from the *environment*, we are ready to infer the state-transition probability from the *dynamics*.  Note that many older papers of RL refer to the 3-d state-transition probability without referring to the 4-d dynamics. The state-transition probability p[sn | s,a] is a conditional probability that specifies the probability of moving to the next state sn given that the agent was in state s and applied action a regardless of the rewards. In other words, the state-transition probability does not refer to the reward altogether. Therefore, all we have to do to infer it from the dynamics is to marginalise the dynamics with respect to the reward, which is what the below code snippet is doing."
   ]
  },
  {
   "cell_type": "code",
   "execution_count": 16,
   "id": "599bc7c2",
   "metadata": {},
   "outputs": [],
   "source": [
    "# state-transition probability induced from the dynamics\n",
    "def ssa(p): \n",
    "    # states dim, action dim\n",
    "    nS, nA = p.shape[0], p.shape[3]\n",
    "    tr = np.zeros((nS, nS, nA))\n",
    "    for s in range(nS):\n",
    "        for a in range(nA):\n",
    "            for sn in range(nS):\n",
    "                tr[sn, s,a] = p[sn,:,s,a].sum()\n",
    "    return tr"
   ]
  },
  {
   "cell_type": "markdown",
   "id": "db076617",
   "metadata": {},
   "source": [
    "Let us now apply this function on the obtained random walk dynamics."
   ]
  },
  {
   "cell_type": "code",
   "execution_count": 17,
   "id": "410426fb",
   "metadata": {},
   "outputs": [
    {
     "name": "stdout",
     "output_type": "stream",
     "text": [
      "[[1. 1.]\n",
      " [1. 1.]\n",
      " [1. 1.]\n",
      " [1. 1.]\n",
      " [1. 1.]\n",
      " [1. 1.]\n",
      " [1. 1.]]\n"
     ]
    }
   ],
   "source": [
    "tr = ssa(p)\n",
    "print(tr.sum(0))\n",
    "# print(tr)"
   ]
  },
  {
   "cell_type": "markdown",
   "id": "87ccc979",
   "metadata": {},
   "source": [
    "Again the state-transition probability satisfies similar properties of the dynamics."
   ]
  },
  {
   "cell_type": "markdown",
   "id": "8e5cf7d8",
   "metadata": {},
   "source": [
    "Finally, we can apply a similar logic to obtain the reward function, see page 49 of the book."
   ]
  },
  {
   "cell_type": "code",
   "execution_count": 18,
   "id": "aa21b32d",
   "metadata": {},
   "outputs": [],
   "source": [
    "# reward function induced from the dynamics\n",
    "def rsa(p, rewards):\n",
    "    # state dim, reward dim\n",
    "    nS, nA, nR = p.shape[0], p.shape[3], p.shape[1]\n",
    "    r = np.zeros((nS,nA))\n",
    "    for s in range(nS):\n",
    "        for a in range(nA):\n",
    "             for rn_, rn in enumerate(rewards): # get the reward rn and its index rn_\n",
    "                # print(rn_, rn)\n",
    "                r[s,a] += rn*p[:,rn_, s,a].sum()\n",
    "    return r\n"
   ]
  },
  {
   "cell_type": "markdown",
   "id": "aa1b321e",
   "metadata": {},
   "source": [
    "Note: that in the book authors use $r +\\gamma v(s)$ to mean the reward at time step $t+1$, in fact for consistency they should have used $r'$ instead as they do for $s'$. In our code treatment we have chosen to use $rn$ in place of $r'$."
   ]
  },
  {
   "cell_type": "code",
   "execution_count": 19,
   "id": "962c1763",
   "metadata": {},
   "outputs": [
    {
     "data": {
      "image/png": "[encoded data removed]",
      "text/plain": [
       "<Figure size 1500x50 with 1 Axes>"
      ]
     },
     "metadata": {},
     "output_type": "display_data"
    },
    {
     "name": "stderr",
     "output_type": "stream",
     "text": [
      "100%|████████████████████████████████████████████████████████████████████████████████████████████████| 1/1 [00:00<00:00,  1.97it/s]"
     ]
    },
    {
     "name": "stdout",
     "output_type": "stream",
     "text": [
      "[[0. 0.]\n",
      " [0. 0.]\n",
      " [0. 0.]\n",
      " [0. 0.]\n",
      " [0. 0.]\n",
      " [0. 1.]\n",
      " [0. 0.]]\n"
     ]
    },
    {
     "name": "stderr",
     "output_type": "stream",
     "text": [
      "\n"
     ]
    }
   ],
   "source": [
    "rewards = randwalk().rewards_set()\n",
    "r = rsa(dynamics(env=randwalk(),  show=True), rewards)\n",
    "print(r)"
   ]
  },
  {
   "cell_type": "markdown",
   "id": "4043aaf5",
   "metadata": {},
   "source": [
    "As we can see, the expected reward of the state-action pair (5, right)=1 because the agent obtains a reward of 1 when it is at state 5 and moves right (as it will end up in the far right terminal state with a reward of 1). The state-action pairs (6, right)=0 because the return/value for terminal states is always 0 (to be able to apply the recursive rule for the return, i.e. once the agent is at the terminal state 6 the process terminates and the agent will not receive any further reward)."
   ]
  },
  {
   "cell_type": "markdown",
   "id": "6400c866-af59-420e-bc09-79bd525e4e65",
   "metadata": {},
   "source": [
    "We can do the same for the longer randwalk_()"
   ]
  },
  {
   "cell_type": "code",
   "execution_count": 20,
   "id": "848e4661-b158-486d-85c9-4ecfe4457f95",
   "metadata": {},
   "outputs": [
    {
     "data": {
      "image/png": "[encoded data removed]",
      "text/plain": [
       "<Figure size 1500x50 with 1 Axes>"
      ]
     },
     "metadata": {},
     "output_type": "display_data"
    },
    {
     "name": "stderr",
     "output_type": "stream",
     "text": [
      "100%|████████████████████████████████████████████████████████████████████████████████████████████████| 1/1 [00:02<00:00,  2.51s/it]"
     ]
    },
    {
     "name": "stdout",
     "output_type": "stream",
     "text": [
      "[[ 0.  0.]\n",
      " [-1.  0.]\n",
      " [ 0.  0.]\n",
      " [ 0.  0.]\n",
      " [ 0.  0.]\n",
      " [ 0.  0.]\n",
      " [ 0.  0.]\n",
      " [ 0.  0.]\n",
      " [ 0.  0.]\n",
      " [ 0.  0.]\n",
      " [ 0.  0.]\n",
      " [ 0.  0.]\n",
      " [ 0.  0.]\n",
      " [ 0.  0.]\n",
      " [ 0.  0.]\n",
      " [ 0.  0.]\n",
      " [ 0.  0.]\n",
      " [ 0.  0.]\n",
      " [ 0.  0.]\n",
      " [ 0.  1.]\n",
      " [ 0.  0.]]\n"
     ]
    },
    {
     "name": "stderr",
     "output_type": "stream",
     "text": [
      "\n"
     ]
    }
   ],
   "source": [
    "rewards = randwalk_().rewards_set()\n",
    "r = rsa(dynamics(env=randwalk_(), show=True), rewards)\n",
    "print(r)"
   ]
  },
  {
   "cell_type": "markdown",
   "id": "532c34f8-f350-4470-ad89-21f5dd7123ac",
   "metadata": {},
   "source": [
    "Can you explain the numbers we get above."
   ]
  },
  {
   "cell_type": "markdown",
   "id": "6dcf0ba4",
   "metadata": {},
   "source": [
    "# Dynamic Programming Methods"
   ]
  },
  {
   "cell_type": "markdown",
   "id": "62b038b1",
   "metadata": {},
   "source": [
    "Ok so we are ready now to move to Dynamic programming algorithms to solve the RL problem of finding a best estimate of a value function and or finding an optimal policy."
   ]
  },
  {
   "cell_type": "markdown",
   "id": "586865f3",
   "metadata": {},
   "source": [
    "## Policy evaluation"
   ]
  },
  {
   "cell_type": "markdown",
   "id": "4399b069",
   "metadata": {},
   "source": [
    "The first step to improving any policy is to evaluate how good or bad the policy is for the given task. This fundamental question can be addressed by tying up the task with a reward function that basically rewards the agent for achieving the task or a subtask that leads to the final goal. The agent's aim then becomes to collect as many rewards as possible (or to incur as few losses as possible), which should help the agent achieve the given task. One example is when a robot is moving in an environment, and we want it to reach a specific location, then we can reward/punish the robot for each step that is taking it close to the goal or away from it. But this awareness of the goal location is usually difficult to attain in real environments. Hence it is replaced by rewarding the agent when it reaches the goal or punishing the agent for each step taken without reaching the goal location.\n",
    "\n",
    "We can devise an evaluation strategy based on the discounted sum of rewards the agent is *expected* to collect while executing the task. The strategy depends on the dynamics of the environment. You may want to read section 4.1 and come back here to continue reading the code for the policy evaluation algorithm to get an insight into how it works."
   ]
  },
  {
   "cell_type": "code",
   "execution_count": 21,
   "id": "94d44157-ce5d-4fa3-9f45-4762ea31d9ae",
   "metadata": {},
   "outputs": [],
   "source": [
    "def Policy_evaluation(env=randwalk(), p=None, V0=None, π=None, γ=.99, θ=1e-3, show=False): \n",
    "    \n",
    "    # env parameters\n",
    "    nS, nA, nR, rewards = env.nS, env.nA, env.nR, env.rewards_set()\n",
    "    p = dynamics(env) if p is None else np.array(p)\n",
    "\n",
    "    # policy parameters\n",
    "    V = np.zeros(nS)     if V0 is None else np.array(V0); V[env.goals] = 0 # initial state values\n",
    "    π = np.zeros(nS,int) if π  is None else np.array(π) # policy to be evaluated **stochastic/deterministic**\n",
    "\n",
    "    i=0\n",
    "    # policy evaluation --------------------------------------------------------------\n",
    "    while True:\n",
    "        Δ = 0\n",
    "        i+= 1\n",
    "        # show indication to keep us informed\n",
    "        if show: clear_output(wait=True); rng = trange(nS) # \n",
    "        else: rng = range(nS)\n",
    "        for s in rng:\n",
    "            if s in env.goals: continue # only S not S+\n",
    "            v, V[s] = V[s], 0            \n",
    "            for sn in range(nS): # S+\n",
    "                for rn_, rn in enumerate(rewards): # get the next reward rn and its index rn_\n",
    "                    if π.ndim == 1: # deterministic policy\n",
    "                        V[s] += p[sn,rn_, s,π[s]]*(rn + γ*V[sn])\n",
    "                    else:           # stochastic policy \n",
    "                        V[s] += sum(π[s,a]*p[sn,rn_, s,a]*(rn + γ*V[sn]) for a in range(nA))\n",
    "            Δ = max(Δ, abs(v-V[s]))\n",
    "        if Δ<θ: break\n",
    "    if show: \n",
    "        env.render(underhood='V', V=V)\n",
    "        print('policy evaluation stopped @ iteration %d:'%i)\n",
    "\n",
    "    return V"
   ]
  },
  {
   "cell_type": "markdown",
   "id": "de89ea89",
   "metadata": {},
   "source": [
    "Note that we assume that when the policy is deterministic, it takes the shape (nS,) and its entries are actions ex. π[s]=1 means take right(1) when in state s.\n",
    "\n",
    "On the other hand if the policy is probabilistic, it has a shape of (nS, nA) and its entries are probabilities of each action given a state s, i.e π[a|s] written as π[s,a] in the code."
   ]
  },
  {
   "cell_type": "markdown",
   "id": "8989c74f",
   "metadata": {},
   "source": [
    "Note that $\\gamma$ must be $< 1$ to guarantee convergence of the Bellman equation because, in general, we do not know whether the policy guarantees reaching a terminal(goal) state; if we do, then $\\gamma=1$ is ok. \n",
    "\n",
    "Refer to section 4.1 in the book: 'The existence and uniqueness of $v_\\pi$ guaranteed as long as either  $\\gamma< 1$ or eventual termination is guaranteed from all states under the policy $\\pi$'.\n",
    "\n",
    "This condition can be relaxed when we move to sampling instead of dynamic programming in the next consequent lessons."
   ]
  },
  {
   "cell_type": "markdown",
   "id": "71bf88bd",
   "metadata": {},
   "source": [
    "Ok, let us test our policy evaluation method on a policy where the agent goes right always."
   ]
  },
  {
   "cell_type": "code",
   "execution_count": 22,
   "id": "554b4f27",
   "metadata": {},
   "outputs": [
    {
     "data": {
      "image/png": "[encoded data removed]",
      "text/plain": [
       "<Figure size 1500x50 with 1 Axes>"
      ]
     },
     "metadata": {},
     "output_type": "display_data"
    },
    {
     "name": "stdout",
     "output_type": "stream",
     "text": [
      "policy evaluation stopped @ iteration 6:\n"
     ]
    },
    {
     "data": {
      "text/plain": [
       "array([0.        , 0.96059601, 0.970299  , 0.9801    , 0.99      ,\n",
       "       1.        , 0.        ])"
      ]
     },
     "execution_count": 22,
     "metadata": {},
     "output_type": "execute_result"
    }
   ],
   "source": [
    "Policy_evaluation(π=[-1,1,1,1,1,1,-1], show=True)"
   ]
  },
  {
   "cell_type": "markdown",
   "id": "ae8c29f1",
   "metadata": {},
   "source": [
    "As we can see, the values for the deterministic policy that always move the agent to the right produce a set of state values of 1 for the non-terminal states 1:5. This is what we expect since the accumulated return of this policy, given that γ=1, is 1 for these states since the agent is rewarded with 1 only when it reaches the far right terminal state, while when it is terminated at the far left state, it is rewarded with 0 (all other intermediate states also has a reward of 0)."
   ]
  },
  {
   "cell_type": "markdown",
   "id": "3aac185b",
   "metadata": {},
   "source": [
    "To further test our policy evaluation method, we will pass a different policy to it. This time we pass a simple probabilistic policy that gives left and right actions the same probability of 0.5. In this case, since γ=1, the expected analytical values of the intermediate states are given as 1/6, 2/6, 3/6, 4/6, 5/6, which represent the probabilities of ending up in the far right state given the agent has started in them (so pr(s=1)=1/6)."
   ]
  },
  {
   "cell_type": "code",
   "execution_count": 23,
   "id": "6a78d74e",
   "metadata": {},
   "outputs": [
    {
     "data": {
      "image/png": "[encoded data removed]",
      "text/plain": [
       "<Figure size 1500x50 with 1 Axes>"
      ]
     },
     "metadata": {},
     "output_type": "display_data"
    },
    {
     "name": "stdout",
     "output_type": "stream",
     "text": [
      "policy evaluation stopped @ iteration 19:\n"
     ]
    },
    {
     "data": {
      "text/plain": [
       "array([0.        , 0.14840421, 0.30070568, 0.45997221, 0.62919208,\n",
       "       0.81145008, 0.        ])"
      ]
     },
     "execution_count": 23,
     "metadata": {},
     "output_type": "execute_result"
    }
   ],
   "source": [
    "env = randwalk()\n",
    "π = np.ones((env.nS,env.nA))*.5 # probability of moving left and right are equal\n",
    "Policy_evaluation(env=env, π=π, show=True)"
   ]
  },
  {
   "cell_type": "code",
   "execution_count": 24,
   "id": "132fdb04",
   "metadata": {},
   "outputs": [
    {
     "data": {
      "text/plain": [
       "array([0.16666667, 0.33333333, 0.5       , 0.66666667, 0.83333333])"
      ]
     },
     "execution_count": 24,
     "metadata": {},
     "output_type": "execute_result"
    }
   ],
   "source": [
    "np.array([1/6, 2/6, 3/6, 4/6, 5/6])"
   ]
  },
  {
   "cell_type": "markdown",
   "id": "e871807a",
   "metadata": {},
   "source": [
    "As we can see the values of this optimal policy (moving always right) progressively increase from left to right towards the goal that is most rewarding and the obtained values are exactly what we expected which is reassuring."
   ]
  },
  {
   "cell_type": "markdown",
   "id": "4796c21b",
   "metadata": {},
   "source": [
    "Let us try to evaluate a random policy"
   ]
  },
  {
   "cell_type": "code",
   "execution_count": 25,
   "id": "f19cd40e",
   "metadata": {},
   "outputs": [
    {
     "name": "stdout",
     "output_type": "stream",
     "text": [
      "[0 1 1 1 1 1 1]\n"
     ]
    }
   ],
   "source": [
    "env = randwalk()\n",
    "π = np.random.randint(env.nA, size=env.nS, dtype=np.uint32)\n",
    "print(π)"
   ]
  },
  {
   "cell_type": "markdown",
   "id": "c71b0b9d",
   "metadata": {},
   "source": [
    "Now we call our policy evaluaiton subroutine."
   ]
  },
  {
   "cell_type": "code",
   "execution_count": 26,
   "id": "bdc781d0",
   "metadata": {},
   "outputs": [
    {
     "data": {
      "image/png": "[encoded data removed]",
      "text/plain": [
       "<Figure size 1500x50 with 1 Axes>"
      ]
     },
     "metadata": {},
     "output_type": "display_data"
    },
    {
     "name": "stdout",
     "output_type": "stream",
     "text": [
      "policy evaluation stopped @ iteration 6:\n"
     ]
    },
    {
     "data": {
      "text/plain": [
       "array([0.        , 0.96059601, 0.970299  , 0.9801    , 0.99      ,\n",
       "       1.        , 0.        ])"
      ]
     },
     "execution_count": 26,
     "metadata": {},
     "output_type": "execute_result"
    }
   ],
   "source": [
    "Policy_evaluation(env=env, π=π, show=True)"
   ]
  },
  {
   "cell_type": "markdown",
   "id": "0d5b213b",
   "metadata": {},
   "source": [
    "As we can see the set of values are different than the above optimal policy and they are in harmony with the policy."
   ]
  },
  {
   "cell_type": "markdown",
   "id": "9bec294b",
   "metadata": {},
   "source": [
    "### Policy Evaluation for 2d MDP Grid World\n",
    "Let us test our policy evaluation algorithm on the following simple 3x3 grid world"
   ]
  },
  {
   "cell_type": "code",
   "execution_count": 27,
   "id": "fb53df92",
   "metadata": {},
   "outputs": [
    {
     "data": {
      "image/png": "[encoded data removed]",
      "text/plain": [
       "<Figure size 800x100 with 1 Axes>"
      ]
     },
     "metadata": {},
     "output_type": "display_data"
    }
   ],
   "source": [
    "V0 = [.3, .4, .5, .2, .3, 0]\n",
    "env2x3 = Grid(gridsize=[2, 3], s0=0, goals=[5], figsize=[8,1])\n",
    "env2x3.render(underhood='V', V=V0)"
   ]
  },
  {
   "cell_type": "code",
   "execution_count": 28,
   "id": "6775acf4",
   "metadata": {},
   "outputs": [
    {
     "data": {
      "image/png": "[encoded data removed]",
      "text/plain": [
       "<Figure size 800x100 with 1 Axes>"
      ]
     },
     "metadata": {},
     "output_type": "display_data"
    }
   ],
   "source": [
    "V = Policy_evaluation(env=env2x3, π=π, V0=V0, γ=1, show=True)\n",
    "env2x3.render(underhood='V', V=V)"
   ]
  },
  {
   "cell_type": "code",
   "execution_count": 29,
   "id": "22d369c8-baa6-4470-bfbf-57360aea5a00",
   "metadata": {},
   "outputs": [
    {
     "data": {
      "image/png": "[encoded data removed]",
      "text/plain": [
       "<Figure size 800x100 with 1 Axes>"
      ]
     },
     "metadata": {},
     "output_type": "display_data"
    }
   ],
   "source": [
    "env3x3 = Grid(gridsize=[3, 3], s0=0, goals=[8], figsize=[8,1])\n",
    "π = [3, 1, 3, 1, 1, 3, 2, 2, -1] # guarantee to reach the terminal state hence γ=1 is ok\n",
    "π_ = [3, 0, 0, 1, 2, 0, 0, 0, -1] # no way to terminal state hence γ=1 leads to an infinite loop\n",
    "env3x3.render(underhood='π', π=π)"
   ]
  },
  {
   "cell_type": "code",
   "execution_count": 30,
   "id": "1496f675-7fe3-4720-b06d-3e72276250cf",
   "metadata": {},
   "outputs": [
    {
     "data": {
      "image/png": "[encoded data removed]",
      "text/plain": [
       "<Figure size 800x100 with 1 Axes>"
      ]
     },
     "metadata": {},
     "output_type": "display_data"
    }
   ],
   "source": [
    "V0 = [.6, .5, .5, .2, .1, .2, .1, .5, 0]\n",
    "V = Policy_evaluation(env=env3x3, π=π, V0=V0, γ=.9, show=True)\n",
    "env3x3.render(underhood='V', V=V)"
   ]
  },
  {
   "cell_type": "code",
   "execution_count": 31,
   "id": "6d4ef8eb-fafc-41d4-9d46-73744315a8d2",
   "metadata": {},
   "outputs": [
    {
     "data": {
      "image/png": "[encoded data removed]",
      "text/plain": [
       "<Figure size 800x100 with 1 Axes>"
      ]
     },
     "metadata": {},
     "output_type": "display_data"
    },
    {
     "name": "stdout",
     "output_type": "stream",
     "text": [
      "policy evaluation stopped @ iteration 5:\n"
     ]
    }
   ],
   "source": [
    "V = Policy_evaluation(env=env3x3, π=π, V0=V0, γ=1, show=True)\n",
    "# V = Policy_evaluation(env=env3x3, π=π_, V0=V0, γ=1) #finite "
   ]
  },
  {
   "cell_type": "markdown",
   "id": "36ba884b",
   "metadata": {},
   "source": [
    "Let us now try this on a slightly more complex environment such as a the maze world"
   ]
  },
  {
   "cell_type": "code",
   "execution_count": 32,
   "id": "a54887af",
   "metadata": {},
   "outputs": [
    {
     "data": {
      "image/png": "[encoded data removed]",
      "text/plain": [
       "<Figure size 1200x200 with 1 Axes>"
      ]
     },
     "metadata": {},
     "output_type": "display_data"
    },
    {
     "name": "stdout",
     "output_type": "stream",
     "text": [
      "policy evaluation stopped @ iteration 6:\n"
     ]
    }
   ],
   "source": [
    "env = maze()\n",
    "π = np.ones(env.nS, dtype=np.uint32)*3 # always go up\n",
    "V = Policy_evaluation(env=env, π=π, show=True)"
   ]
  },
  {
   "cell_type": "markdown",
   "id": "368d34bd",
   "metadata": {},
   "source": [
    "As we can see moving up yeild some benefits mainly in the cells that lead to the goal."
   ]
  },
  {
   "cell_type": "markdown",
   "id": "2a79ff17",
   "metadata": {},
   "source": [
    "Let us now generate a random policy and evaluate it for a maze environment."
   ]
  },
  {
   "cell_type": "code",
   "execution_count": 33,
   "id": "2ee3a392",
   "metadata": {},
   "outputs": [
    {
     "name": "stdout",
     "output_type": "stream",
     "text": [
      "[1 1 2 0 2 1 1 2 0 1 2 3 1 3 3 0 3 3 2 3 0 1 3 3 3 2 3 2 3 0 0 2 1 3 1 1 3\n",
      " 1 1 0 1 0 3 3 1 3 0 1 0 3 2 2 3 2]\n"
     ]
    }
   ],
   "source": [
    "env = maze()\n",
    "π = np.random.randint(env.nA, size=env.nS, dtype=np.uint32)\n",
    "print(π)"
   ]
  },
  {
   "cell_type": "code",
   "execution_count": 34,
   "id": "a2f58faf",
   "metadata": {},
   "outputs": [
    {
     "data": {
      "image/png": "[encoded data removed]",
      "text/plain": [
       "<Figure size 1200x200 with 1 Axes>"
      ]
     },
     "metadata": {},
     "output_type": "display_data"
    }
   ],
   "source": [
    "env.render(underhood='π', π=π)"
   ]
  },
  {
   "cell_type": "code",
   "execution_count": 35,
   "id": "830b5e74",
   "metadata": {},
   "outputs": [
    {
     "data": {
      "image/png": "[encoded data removed]",
      "text/plain": [
       "<Figure size 1200x200 with 1 Axes>"
      ]
     },
     "metadata": {},
     "output_type": "display_data"
    },
    {
     "name": "stdout",
     "output_type": "stream",
     "text": [
      "policy evaluation stopped @ iteration 1:\n"
     ]
    }
   ],
   "source": [
    "V = Policy_evaluation(env=env, π=π, show=True)"
   ]
  },
  {
   "cell_type": "markdown",
   "id": "0e7ff08e",
   "metadata": {},
   "source": [
    "As we can see, the randomly generated policy is chaotic and carry little value for the agent. However, evaluating different policies is highly important for an agent since it can guide the improvement of its adopted policy (based on this ability). One example is to keep evaluating random policies until some computational resources are consumed and pick the best. Below we show such a strategy of searching for an optimal policy. You can apply all other search algorithms that you have come across before in conventional AI (breadth-first etc.)."
   ]
  },
  {
   "cell_type": "code",
   "execution_count": 36,
   "id": "4bc4235e",
   "metadata": {},
   "outputs": [
    {
     "name": "stderr",
     "output_type": "stream",
     "text": [
      "100%|███████████████████████████████████████████████████████████████████████████████████████████████| 1/1 [00:00<00:00, 942.33it/s]"
     ]
    },
    {
     "name": "stdout",
     "output_type": "stream",
     "text": [
      "Vmax before search 0.0\n"
     ]
    },
    {
     "name": "stderr",
     "output_type": "stream",
     "text": [
      "\n"
     ]
    }
   ],
   "source": [
    "env = maze()\n",
    "Vmax= np.zeros((env.nS))\n",
    "p = dynamics(env)\n",
    "print('Vmax before search', Vmax.sum())"
   ]
  },
  {
   "cell_type": "code",
   "execution_count": 37,
   "id": "d8c38af6",
   "metadata": {},
   "outputs": [
    {
     "data": {
      "image/png": "[encoded data removed]",
      "text/plain": [
       "<Figure size 1200x200 with 1 Axes>"
      ]
     },
     "metadata": {},
     "output_type": "display_data"
    },
    {
     "name": "stdout",
     "output_type": "stream",
     "text": [
      "Vmax after search 10.704460219301\n"
     ]
    }
   ],
   "source": [
    "import random\n",
    "random.seed(0)\n",
    "np.random.seed(0)\n",
    "\n",
    "for _ in trange(1000):\n",
    "    # π = np.random.randint(env.nA, size=env.nS)\n",
    "    π = choices(range(env.nA), k=env.nS)\n",
    "    V = Policy_evaluation(env=env, π=π, p=p, show=False)\n",
    "    if V.sum() > Vmax.sum(): \n",
    "        Vmax = V\n",
    "        πmax = π\n",
    "\n",
    "env.render(underhood='π', π=πmax)\n",
    "print('Vmax after search', Vmax.sum())"
   ]
  },
  {
   "cell_type": "markdown",
   "id": "c56d3677",
   "metadata": {},
   "source": [
    "As we can see, finding the optimal policy by random search is difficult since the space of policies is huge, making exhaustive or random search infeasible (dimensionality problem). We need a way to take and maintain a step in the right direction of improving the policy. As you have already seen in another module, a greedy search can often lead to a good result. The next section shows a simple but effective strategy to gradually improve a policy by taking a greedy step towards the solution."
   ]
  },
  {
   "cell_type": "markdown",
   "id": "64da4ba2",
   "metadata": {},
   "source": [
    "## Policy Iteration \n",
    "Now that we know how to evaluate a policy, it is time to improve it. Policy iteration is a basic and simple algorithm. It explicitly and iteratively tries first to reach a highly accurate estimate of the value function of the current policy, then it tries to improve the policy by maximising the probability of greedy actions as per the current value function. Evaluating the current policy fully and then improving it via policy iteration is inefficient, but it shows the fundamental ideas behind reinforcement learning. Please spend some time comprehending the code and reading the corresponding section 4.3 in the book."
   ]
  },
  {
   "cell_type": "code",
   "execution_count": 38,
   "id": "87d9afae",
   "metadata": {},
   "outputs": [],
   "source": [
    "def Policy_iteration(env=randwalk(), p=None, V0=None, π0=None, γ=.99, θ=1e-3, show=False, epochs=None): \n",
    "    \n",
    "    # env parameters\n",
    "    nS, nA, nR, rewards = env.nS, env.nA, env.nR, env.rewards_set()\n",
    "    p = dynamics(env) if p is None else np.array(p)\n",
    "\n",
    "    # policy parameters \n",
    "    V = np.zeros(nS)     if V0 is None else np.array(V0); V[env.goals] = 0 # initial state values\n",
    "    π = np.zeros(nS,int) if π0 is None else np.array(π0); # initial **deterministic** policy \n",
    "    Q = np.zeros((nS,nA))  # state action values storage\n",
    "    # π = randint(0,nA,nS)\n",
    "    \n",
    "    j=0\n",
    "    while True if epochs is None else j<epochs:\n",
    "        j+=1\n",
    "        # 1. Policy evaluation---------------------------------------------------\n",
    "        i=0\n",
    "        while True if epochs is None else i<epochs:\n",
    "            Δ = 0\n",
    "            i+= 1\n",
    "            for s in range(nS): \n",
    "                if s in env.goals: continue # S not S+\n",
    "                v, V[s] = V[s], 0\n",
    "                for sn in range(nS): # S+\n",
    "                    for rn_, rn in enumerate(rewards): # get the reward rn and its index rn_\n",
    "                        V[s] += p[sn,rn_,  s, π[s]]*(rn + γ*V[sn])\n",
    "\n",
    "                Δ = max(Δ, abs(v-V[s]))\n",
    "            if Δ<θ: print('policy evaluation stopped @ iteration %d:'%i); break\n",
    "        \n",
    "        # 2. Policy improvement----------------------------------------------------\n",
    "        policy_stable=True\n",
    "        for s in range(nS):\n",
    "            if s in env.goals: continue # S not S+\n",
    "            πs = π[s]\n",
    "            for a in range(nA):\n",
    "                Q[s,a]=0\n",
    "                for sn in range(nS): # S+\n",
    "                    for rn_, rn in enumerate(rewards): # get the reward rn and its index rn_\n",
    "                        Q[s,a] += p[sn,rn_,  s,a]*(rn + γ*V[sn]) \n",
    "            \n",
    "            π[s] = Q[s].argmax() # simple greedy step\n",
    "            if π[s]!=πs: policy_stable=False\n",
    "           \n",
    "        if policy_stable: print('policy improvement stopped @ iteration %d:'%j); break\n",
    "        if show: env.render(underhood='π', π=π)\n",
    "        \n",
    "    return π, Q"
   ]
  },
  {
   "cell_type": "markdown",
   "id": "5ee56795",
   "metadata": {},
   "source": [
    "We can now apply policy iteration to a proper Environments. We start by a random walk and then we move into grid world."
   ]
  },
  {
   "cell_type": "code",
   "execution_count": 39,
   "id": "59f54ef6",
   "metadata": {},
   "outputs": [
    {
     "data": {
      "image/png": "[encoded data removed]",
      "text/plain": [
       "<Figure size 1500x50 with 1 Axes>"
      ]
     },
     "metadata": {},
     "output_type": "display_data"
    },
    {
     "name": "stdout",
     "output_type": "stream",
     "text": [
      "policy evaluation stopped @ iteration 2:\n",
      "policy improvement stopped @ iteration 6:\n"
     ]
    }
   ],
   "source": [
    "env=randwalk()\n",
    "π, Q = Policy_iteration(env, show=True)"
   ]
  },
  {
   "cell_type": "markdown",
   "id": "858564eb",
   "metadata": {},
   "source": [
    "To visualise the policy we would need to pass the environment explicitly and then render the environment."
   ]
  },
  {
   "cell_type": "code",
   "execution_count": 40,
   "id": "164c03cc",
   "metadata": {},
   "outputs": [
    {
     "name": "stdout",
     "output_type": "stream",
     "text": [
      "[0 1 1 1 1 1 0]\n"
     ]
    }
   ],
   "source": [
    "print(π)"
   ]
  },
  {
   "cell_type": "code",
   "execution_count": 41,
   "id": "07724d47",
   "metadata": {},
   "outputs": [
    {
     "data": {
      "image/png": "[encoded data removed]",
      "text/plain": [
       "<Figure size 1500x50 with 1 Axes>"
      ]
     },
     "metadata": {},
     "output_type": "display_data"
    }
   ],
   "source": [
    "env.render(underhood='π', π=π)"
   ]
  },
  {
   "cell_type": "code",
   "execution_count": 42,
   "id": "0baef785",
   "metadata": {},
   "outputs": [
    {
     "data": {
      "image/png": "[encoded data removed]",
      "text/plain": [
       "<Figure size 1500x50 with 1 Axes>"
      ]
     },
     "metadata": {},
     "output_type": "display_data"
    }
   ],
   "source": [
    "env.render(underhood='π', π=π)"
   ]
  },
  {
   "cell_type": "markdown",
   "id": "eac98b69-dfcd-4188-a1fe-efc9a9002387",
   "metadata": {},
   "source": [
    "Note that we do not need to break ties randomly for the policy (we jsu use Q[s].argmax()) because we are not sampling."
   ]
  },
  {
   "cell_type": "markdown",
   "id": "b1b286d5-2f14-4b7e-ba35-fb55aaa71390",
   "metadata": {},
   "source": [
    "### 2-d Grid World MDP Examples\n",
    "Let us take another example, of a simple 3x3 grid world and run the policy iteration algorithm on.\n",
    "We start with a deterministic policy. The reward is 0 everywhere except for the goal where the agent will be rewarded by 1.\n"
   ]
  },
  {
   "cell_type": "code",
   "execution_count": 43,
   "id": "e6178be5-a17d-4129-b173-c0c8fd60f64c",
   "metadata": {},
   "outputs": [],
   "source": [
    "env3x3 = Grid(gridsize=[3, 3], reward='reward_1', s0=0, goals=[8], figsize=[7,1])\n",
    "π0 = [3, 1, 3, 1, 1, 3, 2, 2, -1] # guarantee to reach the terminal state only if γ<1\n",
    "π0_ = [3, 0, 0, 1, 2, 0, 0, 0, -1] # guarantee to reach the terminal state only if γ<1"
   ]
  },
  {
   "cell_type": "markdown",
   "id": "a51874ca-8768-4f73-a22d-4fe7cb617b4f",
   "metadata": {},
   "source": [
    "Whether the initial policy is guaranteed to reach the terminal state or not, γ=1 leads to an infinite loop, because subsequent policies are not guaranteed to reach the terminal state.\n"
   ]
  },
  {
   "cell_type": "code",
   "execution_count": 44,
   "id": "51407847-6df0-452f-aba3-ad9b1ba39738",
   "metadata": {},
   "outputs": [
    {
     "data": {
      "image/png": "[encoded data removed]",
      "text/plain": [
       "<Figure size 700x100 with 1 Axes>"
      ]
     },
     "metadata": {},
     "output_type": "display_data"
    }
   ],
   "source": [
    "env3x3.render(underhood='π', π=π0)"
   ]
  },
  {
   "cell_type": "markdown",
   "id": "d99a705d-ad28-41f1-82b6-255d77a0dd05",
   "metadata": {},
   "source": [
    "Let us show the values before applying the agorithms"
   ]
  },
  {
   "cell_type": "code",
   "execution_count": 45,
   "id": "2c8117f4-32d7-46b9-92b2-5b4f3d877bfc",
   "metadata": {},
   "outputs": [
    {
     "data": {
      "image/png": "[encoded data removed]",
      "text/plain": [
       "<Figure size 700x100 with 1 Axes>"
      ]
     },
     "metadata": {},
     "output_type": "display_data"
    }
   ],
   "source": [
    "V0 = [.6, .5, .5, .2, .1, .2, .1, .5, 0]\n",
    "env3x3.render(underhood='V', V=V0)"
   ]
  },
  {
   "cell_type": "code",
   "execution_count": 46,
   "id": "aa1fd99f-6914-43b1-959b-da89971e94aa",
   "metadata": {},
   "outputs": [
    {
     "data": {
      "image/png": "[encoded data removed]",
      "text/plain": [
       "<Figure size 700x100 with 1 Axes>"
      ]
     },
     "metadata": {},
     "output_type": "display_data"
    },
    {
     "name": "stdout",
     "output_type": "stream",
     "text": [
      "policy evaluation stopped @ iteration 3:\n",
      "policy improvement stopped @ iteration 2:\n"
     ]
    },
    {
     "data": {
      "text/plain": [
       "(array([ 1,  1,  3,  1,  1,  3,  1,  1, -1]),\n",
       " array([[-4.90099501, -3.940399  , -4.90099501, -3.940399  ],\n",
       "        [-4.90099501, -2.9701    , -3.940399  , -2.9701    ],\n",
       "        [-3.940399  , -2.9701    , -2.9701    , -1.99      ],\n",
       "        [-3.940399  , -2.9701    , -4.90099501, -2.9701    ],\n",
       "        [-3.940399  , -1.99      , -3.940399  , -1.99      ],\n",
       "        [-2.9701    , -1.99      , -2.9701    , -1.        ],\n",
       "        [-2.9701    , -1.99      , -3.940399  , -2.9701    ],\n",
       "        [-2.9701    , -1.        , -2.9701    , -1.99      ],\n",
       "        [ 0.        ,  0.        ,  0.        ,  0.        ]]))"
      ]
     },
     "execution_count": 46,
     "metadata": {},
     "output_type": "execute_result"
    }
   ],
   "source": [
    "π, Q = Policy_iteration(env=env3x3, V0=V0, π0=π0, show=True)\n",
    "π, Q"
   ]
  },
  {
   "cell_type": "markdown",
   "id": "3374bf9c-c9b0-4890-ae24-1424d4f9556d",
   "metadata": {},
   "source": [
    "Let us now check the values after applying the algorithm"
   ]
  },
  {
   "cell_type": "code",
   "execution_count": 47,
   "id": "d2b4f74c-477d-4452-b72e-0d9a94a33a1e",
   "metadata": {},
   "outputs": [
    {
     "data": {
      "image/png": "[encoded data removed]",
      "text/plain": [
       "<Figure size 700x100 with 1 Axes>"
      ]
     },
     "metadata": {},
     "output_type": "display_data"
    }
   ],
   "source": [
    "env3x3.render(underhood='V', V=Q.max(1))"
   ]
  },
  {
   "cell_type": "markdown",
   "id": "11b04fe0-4149-4310-b350-1246a13095bf",
   "metadata": {},
   "source": [
    "Note that if we set γ=1 we need then to set epochs, otherwise, the algorithm enters an infinite loop because all state values converge to 1."
   ]
  },
  {
   "cell_type": "markdown",
   "id": "fc1c1c31-b229-461c-9d72-869ddab29219",
   "metadata": {},
   "source": [
    "Let us try it on a slightly more complex environment such as the maze."
   ]
  },
  {
   "cell_type": "code",
   "execution_count": 48,
   "id": "3737d08d",
   "metadata": {},
   "outputs": [
    {
     "data": {
      "image/png": "[encoded data removed]",
      "text/plain": [
       "<Figure size 1200x200 with 1 Axes>"
      ]
     },
     "metadata": {},
     "output_type": "display_data"
    },
    {
     "name": "stdout",
     "output_type": "stream",
     "text": [
      "policy evaluation stopped @ iteration 2:\n",
      "policy improvement stopped @ iteration 16:\n"
     ]
    }
   ],
   "source": [
    "env=maze()\n",
    "π = Policy_iteration(env, show=True)[0]"
   ]
  },
  {
   "cell_type": "code",
   "execution_count": 49,
   "id": "5f37ad22",
   "metadata": {},
   "outputs": [
    {
     "data": {
      "image/png": "[encoded data removed]",
      "text/plain": [
       "<Figure size 1200x200 with 1 Axes>"
      ]
     },
     "metadata": {},
     "output_type": "display_data"
    }
   ],
   "source": [
    "env.render(underhood='π', π=π)"
   ]
  },
  {
   "cell_type": "markdown",
   "id": "ac88ba30",
   "metadata": {},
   "source": [
    "## Stochastic Policy Iteration\n",
    "We can also create a stochastic policy iteration method. It only differs from the deterministic policy iteration in two places (in the if ε_greedy statements): \n",
    "1. in the policy evaluation, we need to marginalize by multiplying by the action probability as we did earlier for the policy evaluation method\n",
    "2. In calculating the probability of taking an optimal action (to account for the stochastic non-determinism nature of the policy), we allow the agent to take random actions ε% of the time. \n",
    "\n",
    "We show the method below.\n"
   ]
  },
  {
   "cell_type": "code",
   "execution_count": 50,
   "id": "13ac9fe9-7eb1-46de-99e6-b2a1789a485e",
   "metadata": {},
   "outputs": [],
   "source": [
    "np.random.seed(1) # change the seed to get a different dynamics"
   ]
  },
  {
   "cell_type": "code",
   "execution_count": 51,
   "id": "ffdabb6e",
   "metadata": {},
   "outputs": [],
   "source": [
    "# stochast policy iteration\n",
    "def Policy_iteration_stoch(env=randwalk(), p=None, V0=None, π0=None, γ=.99, θ=1e-4, ε=.1, show=False): \n",
    "    \n",
    "    # env parameters\n",
    "    nS, nA, nR, rewards = env.nS, env.nA, env.nR, env.rewards_set()\n",
    "    p = dynamics(env) if p is None else np.array(p)\n",
    "\n",
    "    # policy parameters\n",
    "    V = np.zeros(nS)      if V0 is None else np.array(V0); V[env.goals] = 0 # initial state values\n",
    "    π = np.ones ((nS,nA)) if π0 is None else np.array(π0); π=π/π.sum(1)[:,None] # initial **stochastic** policy \n",
    "    Q = np.zeros((nS, nA)) # state action values storage\n",
    "    # π = randint(1,nA,(nS,nA))\n",
    "    \n",
    "    j=0\n",
    "    while True:\n",
    "        j+=1\n",
    "        # 1. Policy evaluation---------------------------------------------------\n",
    "        i=0\n",
    "        while True:\n",
    "            Δ = 0\n",
    "            i+= 1\n",
    "            for s in range(nS):\n",
    "                if s in env.goals: continue # S not S+\n",
    "                v, V[s] = V[s], 0\n",
    "                for sn in range(nS): # S+\n",
    "                    for rn_, rn in enumerate(rewards): # get the reward rn and its index rn_ \n",
    "                        # stochastic policy\n",
    "                        # V[s] += sum(π[s,a]*p[sn,rn_, s,a ]*(rn + γ*V[sn]) for a in range(nA)) \n",
    "                        V[s] += p[sn,rn_,  s, π[s].argmax()]*(rn + γ*V[sn])\n",
    "                        \n",
    "                Δ = max(Δ, abs(v-V[s]))\n",
    "            if Δ<θ: print('policy evaluation stopped @ iteration %d:'%i); break\n",
    "\n",
    "        # 2. Policy improvement----------------------------------------------------\n",
    "        policy_stable=True\n",
    "        for s in range(nS):\n",
    "            if s in env.goals: continue # S not S+\n",
    "            Qs = Q[s]\n",
    "            for a in range(nA):\n",
    "                Q[s,a]=0\n",
    "                for sn in range(nS): # S+\n",
    "                    for rn_, rn in enumerate(rewards): # get the reward rn and its index rn_\n",
    "                        Q[s,a] += p[sn,rn_, s,a]*(rn + γ*V[sn])\n",
    "                        \n",
    "                if abs(Q[s,a]-Qs[a]) > 0: policy_stable=False\n",
    "            π[s] = Qs*0 + ε/nA\n",
    "            π[s,Q[s].argmax()] += 1-ε     # greedy step  \n",
    "    \n",
    "        if policy_stable: print('policy improvement stopped @ iteration %d:'%j); break\n",
    "        \n",
    "    if show: env.render(underhood='maxQ', Q=Q)\n",
    "    \n",
    "    return π, Q"
   ]
  },
  {
   "cell_type": "code",
   "execution_count": 52,
   "id": "badb2038",
   "metadata": {},
   "outputs": [
    {
     "name": "stderr",
     "output_type": "stream",
     "text": [
      "100%|██████████████████████████████████████████████████████████████████████████████████████████████| 1/1 [00:00<00:00, 2278.27it/s]"
     ]
    },
    {
     "name": "stdout",
     "output_type": "stream",
     "text": [
      "policy evaluation stopped @ iteration 1:\n",
      "policy improvement stopped @ iteration 1:\n"
     ]
    },
    {
     "name": "stderr",
     "output_type": "stream",
     "text": [
      "\n"
     ]
    }
   ],
   "source": [
    "env=randwalk(figsize=[25,.5])\n",
    "π, Q = Policy_iteration_stoch(env=env, show=False)"
   ]
  },
  {
   "cell_type": "code",
   "execution_count": 53,
   "id": "e2b2acf8",
   "metadata": {},
   "outputs": [
    {
     "data": {
      "image/png": "[encoded data removed]",
      "text/plain": [
       "<Figure size 2500x50 with 1 Axes>"
      ]
     },
     "metadata": {},
     "output_type": "display_data"
    }
   ],
   "source": [
    "env.render(underhood='Q', Q=π)"
   ]
  },
  {
   "cell_type": "markdown",
   "id": "b7efb676",
   "metadata": {},
   "source": [
    "As we can see the policy chooses to take right majority of the times  1-ε+ ε/nA=.95 while taking left occasionally  ε/nA."
   ]
  },
  {
   "cell_type": "code",
   "execution_count": 54,
   "id": "bde34afd-6c17-4481-8118-527cc508cd1f",
   "metadata": {},
   "outputs": [
    {
     "data": {
      "image/png": "[encoded data removed]",
      "text/plain": [
       "<Figure size 1000x100 with 1 Axes>"
      ]
     },
     "metadata": {},
     "output_type": "display_data"
    }
   ],
   "source": [
    "env3x3 = Grid(gridsize=[3, 3], s0=0, goals=[8], figsize=[10,1])\n",
    "V0 = [.6, .5, .5, .2, .1, .2, .1, .5, 0]\n",
    "env3x3.render(underhood='V', V=V0)"
   ]
  },
  {
   "cell_type": "code",
   "execution_count": 55,
   "id": "4c483b50-0387-48a0-b71a-13165e127bd0",
   "metadata": {},
   "outputs": [
    {
     "data": {
      "image/png": "[encoded data removed]",
      "text/plain": [
       "<Figure size 1000x100 with 1 Axes>"
      ]
     },
     "metadata": {},
     "output_type": "display_data"
    },
    {
     "data": {
      "text/plain": [
       "array([[0., 0., 0., 0.],\n",
       "       [0., 0., 0., 0.],\n",
       "       [0., 0., 0., 0.],\n",
       "       [0., 0., 0., 0.],\n",
       "       [0., 0., 0., 0.],\n",
       "       [0., 0., 0., 1.],\n",
       "       [0., 0., 0., 0.],\n",
       "       [0., 1., 0., 0.],\n",
       "       [0., 0., 0., 0.]])"
      ]
     },
     "execution_count": 55,
     "metadata": {},
     "output_type": "execute_result"
    }
   ],
   "source": [
    "Q, π = Policy_iteration_stoch(env3x3, γ=.9, ε=0, θ=1e-5, show=True)\n",
    "π"
   ]
  },
  {
   "cell_type": "markdown",
   "id": "eb6bc2db",
   "metadata": {},
   "source": [
    "## Value Iteration Algorithm"
   ]
  },
  {
   "cell_type": "markdown",
   "id": "28c46f87",
   "metadata": {},
   "source": [
    "Our final step to fully develop the ideas of dynamic programming is to shorten the time it takes for a policy to be evaluated and improved. One simple idea we will follow here is to slightly improve the evaluation and immediately improve the policy. We do these two steps iteratively until our policy has stopped to improve. This is a very effective strategy because we do not wait until the policy is fully evaluated to improve it; we weave and interleave the two loops together in one loop. Below we show this algorithm. Read section 4.4 to further your understanding of this algorithm."
   ]
  },
  {
   "cell_type": "code",
   "execution_count": 56,
   "id": "4895421e-ae83-4a05-b334-76ee7bb70370",
   "metadata": {},
   "outputs": [],
   "source": [
    "np.random.seed(1) # change the seed to get a different dynamics"
   ]
  },
  {
   "cell_type": "code",
   "execution_count": 57,
   "id": "d32f9fa9",
   "metadata": {},
   "outputs": [],
   "source": [
    "np.random.seed(1)\n",
    "\n",
    "def value_iteration(env=randwalk(), p=None, V0=None, γ=.99, θ=1e-4, epochs=None, show=False): \n",
    "\n",
    "    # env parameters\n",
    "    nS, nA, nR, rewards, i = env.nS, env.nA, env.nR, env.rewards_set(), 0\n",
    "    p = dynamics(env) if p is None else np.array(p)\n",
    "\n",
    "    # policy parameters\n",
    "    V = np.zeros(nS) if V0 is None else np.array(V0); V[env.goals] = 0 # initial state values\n",
    "    Q = np.zeros((nS,nA)) # state action values storage\n",
    "\n",
    "    while True if epochs is None else i<epochs:\n",
    "        Δ = 0\n",
    "        i+= 1\n",
    "        for s in range(nS):\n",
    "            if s in env.goals: continue\n",
    "            v, Q[s] = V[s], 0\n",
    "            for a in range(nA):\n",
    "                for sn in range(nS):\n",
    "                    for rn_, rn in enumerate(rewards):            # get the reward rn and its index rn_\n",
    "                        Q[s,a] += p[sn,rn_,  s,a]*(rn + γ*V[sn])  # max operation is embedded now in the evaluation\n",
    "                        \n",
    "            V[s] = Q[s].max()                                     # step which made the algorithm more concise \n",
    "            Δ = max(Δ, abs(v-V[s]))\n",
    "            \n",
    "        if Δ<θ: print('loop stopped @ iteration: %d , Δ = %2.f'% (i, Δ)); break\n",
    "        if show: env.render(underhood='π', π=Q.argmax(1))\n",
    "        \n",
    "    return Q"
   ]
  },
  {
   "cell_type": "code",
   "execution_count": 58,
   "id": "4688661d",
   "metadata": {},
   "outputs": [
    {
     "data": {
      "image/png": "[encoded data removed]",
      "text/plain": [
       "<Figure size 1500x50 with 1 Axes>"
      ]
     },
     "metadata": {},
     "output_type": "display_data"
    },
    {
     "name": "stdout",
     "output_type": "stream",
     "text": [
      "loop stopped @ iteration: 6 , Δ =  0\n",
      "optimal action for state [0 1 1 1 1 1 0]\n"
     ]
    }
   ],
   "source": [
    "env = randwalk()\n",
    "π = value_iteration(env, show=True).argmax(1)\n",
    "print('optimal action for state', π)"
   ]
  },
  {
   "cell_type": "markdown",
   "id": "730b962a",
   "metadata": {},
   "source": [
    "As we can see our value iteration algorithm is effective in finding the optimal policy. Note that for the random walk environment the best policy is to move right to get a reward."
   ]
  },
  {
   "cell_type": "markdown",
   "id": "78362bf8",
   "metadata": {},
   "source": [
    "### Value Iteration on a Grid World"
   ]
  },
  {
   "cell_type": "markdown",
   "id": "abe4dba3",
   "metadata": {},
   "source": [
    "Now that you understand the value-iteration algorithm, you can apply it on a different and more complex envornment such as the grid world. As we did for the random walk, you have access to a grid world via the Grid class and its subroutines."
   ]
  },
  {
   "cell_type": "code",
   "execution_count": 59,
   "id": "0e92bc2f-1680-43da-9728-123262e2885e",
   "metadata": {},
   "outputs": [
    {
     "data": {
      "image/png": "[encoded data removed]",
      "text/plain": [
       "<Figure size 1000x100 with 1 Axes>"
      ]
     },
     "metadata": {},
     "output_type": "display_data"
    }
   ],
   "source": [
    "env3x3 = Grid(gridsize=[3, 3], reward='reward_1', s0=0, goals=[8], figsize=[10,1])\n",
    "V0 = [.6, .5, .5, .2, .1, .2, .1, .5, 0]\n",
    "env3x3.render(underhood='V', V=V0)"
   ]
  },
  {
   "cell_type": "code",
   "execution_count": 60,
   "id": "e3a87e16-1842-4a57-a4e2-ec39d84392a5",
   "metadata": {},
   "outputs": [
    {
     "data": {
      "image/png": "[encoded data removed]",
      "text/plain": [
       "<Figure size 1000x100 with 1 Axes>"
      ]
     },
     "metadata": {},
     "output_type": "display_data"
    },
    {
     "name": "stdout",
     "output_type": "stream",
     "text": [
      "loop stopped @ iteration: 6 , Δ =  0\n",
      "optimal action for state [1 1 3 1 1 3 1 1 0]\n"
     ]
    },
    {
     "data": {
      "text/plain": [
       "array([[-1.9375, -1.875 , -1.9375, -1.875 ],\n",
       "       [-1.9375, -1.75  , -1.875 , -1.75  ],\n",
       "       [-1.875 , -1.75  , -1.75  , -1.5   ],\n",
       "       [-1.875 , -1.75  , -1.9375, -1.75  ],\n",
       "       [-1.875 , -1.5   , -1.875 , -1.5   ],\n",
       "       [-1.75  , -1.5   , -1.75  , -1.    ],\n",
       "       [-1.75  , -1.5   , -1.875 , -1.75  ],\n",
       "       [-1.75  , -1.    , -1.75  , -1.5   ],\n",
       "       [ 0.    ,  0.    ,  0.    ,  0.    ]])"
      ]
     },
     "execution_count": 60,
     "metadata": {},
     "output_type": "execute_result"
    }
   ],
   "source": [
    "Q = value_iteration(env3x3, γ=.5, V0=V0, show=True)\n",
    "print('optimal action for state', Q.argmax(1))\n",
    "Q"
   ]
  },
  {
   "cell_type": "markdown",
   "id": "cb3a750e-09ad-42f7-8c05-53357ba86bdf",
   "metadata": {},
   "source": [
    "Let us try on a more complex grid environment."
   ]
  },
  {
   "cell_type": "code",
   "execution_count": 61,
   "id": "585210ad",
   "metadata": {},
   "outputs": [
    {
     "data": {
      "image/png": "[encoded data removed]",
      "text/plain": [
       "<Figure size 1200x200 with 1 Axes>"
      ]
     },
     "metadata": {},
     "output_type": "display_data"
    },
    {
     "name": "stdout",
     "output_type": "stream",
     "text": [
      "loop stopped @ iteration: 10 , Δ =  0\n",
      "optimal action for state [1 1 1 1 1 1 3 0 0 0 1 1 1 1 1 1 3 0 0 0 1 1 1 1 1 1 3 0 0 0 1 1 1 1 1 1 0\n",
      " 0 0 0 1 1 1 1 1 1 2 0 0 0 1 1 1 1 1 1 2 0 0 0 1 1 1 1 1 1 2 0 0 0 1 1 1 1\n",
      " 1 1 2 0 0 0]\n"
     ]
    }
   ],
   "source": [
    "env=grid()\n",
    "Q = value_iteration(env=env, show=True)\n",
    "print('optimal action for state', Q.argmax(1))\n",
    "# env.render(underhood='π', π=Q.argmax(1))"
   ]
  },
  {
   "cell_type": "markdown",
   "id": "8572e080",
   "metadata": {},
   "source": [
    "To interpret the policy we provided you with a useful function to render the environemt with its policy as shown above."
   ]
  },
  {
   "cell_type": "markdown",
   "id": "7b22a652",
   "metadata": {},
   "source": [
    "As we can see the policy-iteration algorithm successfuly gave us the best policy for this simple environment."
   ]
  },
  {
   "cell_type": "markdown",
   "id": "d551da9b",
   "metadata": {},
   "source": [
    "### Value Iteration on a Windy Grid World\n",
    "Below we show the results of applying the value iteration method on a windy grid world. This is almost identical to the previous simple grid world without any obstacles, the only difference is that there is a wind blowing upwards, which shifts the agent 2 or 1 cell depending on its location. See page 130 of the book."
   ]
  },
  {
   "cell_type": "code",
   "execution_count": 62,
   "id": "8f4feb7e",
   "metadata": {},
   "outputs": [
    {
     "data": {
      "image/png": "[encoded data removed]",
      "text/plain": [
       "<Figure size 1200x200 with 1 Axes>"
      ]
     },
     "metadata": {},
     "output_type": "display_data"
    },
    {
     "name": "stdout",
     "output_type": "stream",
     "text": [
      "loop stopped @ iteration: 12 , Δ =  0\n",
      "optimal action for state [1 1 1 1 1 1 1 3 0 0 1 1 1 1 1 1 1 2 0 2 1 1 1 1 1 1 1 2 1 2 1 1 1 1 1 1 1\n",
      " 0 1 2 1 1 1 1 1 1 1 1 1 2 1 1 1 1 1 1 1 1 1 2 1 1 1 1 1 1 1 1 1 2]\n"
     ]
    }
   ],
   "source": [
    "env=windy()\n",
    "Q = value_iteration(env, show=True)\n",
    "print('optimal action for state', Q.argmax(1))"
   ]
  },
  {
   "cell_type": "markdown",
   "id": "55d4220a",
   "metadata": {},
   "source": [
    "### value iteration on a maze\n",
    "Let us now apply the policy-iteration on the maze env."
   ]
  },
  {
   "cell_type": "code",
   "execution_count": 63,
   "id": "794028d7",
   "metadata": {},
   "outputs": [
    {
     "data": {
      "image/png": "[encoded data removed]",
      "text/plain": [
       "<Figure size 1200x200 with 1 Axes>"
      ]
     },
     "metadata": {},
     "output_type": "display_data"
    },
    {
     "name": "stdout",
     "output_type": "stream",
     "text": [
      "loop stopped @ iteration: 14 , Δ =  0\n"
     ]
    }
   ],
   "source": [
    "env=maze()\n",
    "policy = value_iteration(env, show=True)\n",
    "# print('optimal action for state', policy)"
   ]
  },
  {
   "cell_type": "markdown",
   "id": "da4463cf",
   "metadata": {},
   "source": [
    "## Conclusion\n",
    "In this lesson, we covered the main dynamic programming algorithms. We saw how evaluating a policy was extremely useful in being the key component to allowing us to improve the policy. We then developed a policy iteration algorithm which improves the policy in two main steps:\n",
    "1. a step that evaluates the policy fully to reach an accurate estimation of the action values of the current policy\n",
    "2. a step that improves the policy by adopting a greedy action. The usage of an action-value function Q(s,a) was key in allowing us to choose between actions since the state-value function V(s) does not differentiate between the values of actions\n",
    "\n",
    "We finally saw how the value-iteration algorithm has a similar structure to the policy-iteration algorithm with one important difference; it can arrive at an optimal policy by just taking a step *towards* the optimal policy by slightly refines its estimation of the action-value function without fully evaluating it.  Hence, it improves its policy more concisely and with much less overhead than the full policy iteration method.\n",
    "\n",
    "In the next lesson, we will take a different approach and move to cover sampling methods that do not use the dynamics of the environment explicitly and instead try to improve its policy by interacting with the environment.\n"
   ]
  },
  {
   "cell_type": "markdown",
   "id": "ef3383f3",
   "metadata": {},
   "source": [
    "## Your turn\n",
    "- Try to infer the state transition function tr(sn,s,a) and reward function r(s,a) for the randwalk_()\n",
    "- Try the policy iteration on the maze8 which allows the agent to move diagonally, it is fun. You should arrive at an optimal policy for this maze environment where an agent can move diagonally and has 8 actions. You should be able to observe how efficient the policy is and how the agent is able to reach the goal location from anywhere in the environment.\n"
   ]
  },
  {
   "cell_type": "markdown",
   "id": "4348c6aa",
   "metadata": {},
   "source": [
    "## Challenges\n",
    "1. Alter policy_iteration_stoch to use a softmax policy instead of the ε-greedy policy that we used in the policy_iteration_stoch method.\n",
    "2. You can challenge yourself also by trying to combine policy_iteration and policy_iteration_stoch() in one method. Use a flag such as ε_greedy to distinguish between deterministic and probabilistic policies."
   ]
  },
  {
   "cell_type": "markdown",
   "id": "a8f31744-a30b-4cf8-8bde-ad14171ea5b4",
   "metadata": {},
   "source": [
    "[Back to TOC](IntroductionTOC.ipynb)"
   ]
  }
 ],
 "metadata": {
  "kernelspec": {
   "display_name": "Python 3 (ipykernel)",
   "language": "python",
   "name": "python3"
  },
  "language_info": {
   "codemirror_mode": {
    "name": "ipython",
    "version": 3
   },
   "file_extension": ".py",
   "mimetype": "text/x-python",
   "name": "python",
   "nbconvert_exporter": "python",
   "pygments_lexer": "ipython3",
   "version": "3.12.7"
  }
 },
 "nbformat": 4,
 "nbformat_minor": 5
}
